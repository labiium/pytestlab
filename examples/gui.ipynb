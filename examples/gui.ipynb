{
    "cells": [
        {
            "cell_type": "markdown",
            "metadata": {},
            "source": [
                "# PyTestLab – Notebook GUI Demo\n",
                "\n",
                "This short notebook shows how you can build **interactive controls** for *any* PyTestLab instrument **without writing specialized widget classes** – everything is declared in a few lines.\n",
                "\n",
                "*The demo runs entirely in simulation mode – no hardware required.*"
            ]
        },
        {
            "cell_type": "code",
            "execution_count": 1,
            "metadata": {
                "tags": []
            },
            "outputs": [],
            "source": [
                "#Install ipywidgets if it's missing.  (Google Colab already has it; classic Jupyter may need it once.)\n",
                "import subprocess, sys, importlib.util, warnings\n",
                "if importlib.util.find_spec(\"ipywidgets\") is None:\n",
                "    warnings.warn(\"Installing ipywidgets…\")\n",
                "    subprocess.check_call([sys.executable, \"-m\", \"pip\", \"install\", \"ipywidgets>=8\"])\n",
                "\n",
                "# Optional – nice layout in classic Notebook\n",
                "try:\n",
                "    import ipywidgets as w; w.install_nbextension(enable=True)\n",
                "except Exception:\n",
                "    pass"
            ]
        },
        {
            "cell_type": "code",
            "execution_count": 9,
            "metadata": {
                "tags": []
            },
            "outputs": [
                {
                    "name": "stdout",
                    "output_type": "stream",
                    "text": [
                        "Simulated PSU & DMM ready → build GUI panels below…\n"
                    ]
                }
            ],
            "source": [
                "## 1. Create (simulated) instruments\"\"\"\n",
                "import pytestlab\n",
                "\n",
                "# We're inside Jupyter -> an event-loop is already running → simple helper\n",
                "\n",
                "# psu = await pytestlab.instruments.AutoInstrument.from_config(\n",
                "#     \"keysight/EDU36311A\", simulate=True\n",
                "# )\n",
                "# await psu.connect_backend()\n",
                "\n",
                "# dmm = await pytestlab.instruments.AutoInstrument.from_config(\n",
                "#     \"keysight/EDU34450A\", simulate=True\n",
                "# )\n",
                "\n",
                "awg = await pytestlab.instruments.AutoInstrument.from_config(\n",
                "    \"keysight/EDU33212A\", simulate=True\n",
                ")\n",
                "\n",
                "await awg.connect_backend()\n",
                "\n",
                "print(\"Simulated PSU & DMM ready → build GUI panels below…\")"
            ]
        },
        {
            "cell_type": "code",
            "execution_count": null,
            "metadata": {},
            "outputs": [
                {
                    "ename": "NameError",
                    "evalue": "name 'psu' is not defined",
                    "output_type": "error",
                    "traceback": [
                        "\u001b[0;31m---------------------------------------------------------------------------\u001b[0m",
                        "\u001b[0;31mNameError\u001b[0m                                 Traceback (most recent call last)",
                        "Cell \u001b[0;32mIn[3], line 6\u001b[0m\n\u001b[1;32m      1\u001b[0m \u001b[38;5;124m\"\u001b[39m\u001b[38;5;124m\"\u001b[39m\u001b[38;5;66;03m## 2. Build a PSU control panel (Channel 1)\"\"\"\u001b[39;00m\n\u001b[1;32m      2\u001b[0m \u001b[38;5;28;01mfrom\u001b[39;00m \u001b[38;5;21;01mpytestlab\u001b[39;00m\u001b[38;5;21;01m.\u001b[39;00m\u001b[38;5;21;01mgui\u001b[39;00m\u001b[38;5;21;01m.\u001b[39;00m\u001b[38;5;21;01mbuilder\u001b[39;00m \u001b[38;5;28;01mimport\u001b[39;00m InstrumentPanel, Slider, Toggle, Button\n\u001b[1;32m      4\u001b[0m psu_panel \u001b[38;5;241m=\u001b[39m InstrumentPanel(\n\u001b[1;32m      5\u001b[0m     title\u001b[38;5;241m=\u001b[39m\u001b[38;5;124m\"\u001b[39m\u001b[38;5;124mPSU – CH1 (Sim)\u001b[39m\u001b[38;5;124m\"\u001b[39m,\n\u001b[0;32m----> 6\u001b[0m     inst\u001b[38;5;241m=\u001b[39m\u001b[43mpsu\u001b[49m,\n\u001b[1;32m      7\u001b[0m     controls\u001b[38;5;241m=\u001b[39m[\n\u001b[1;32m      8\u001b[0m         Slider(\n\u001b[1;32m      9\u001b[0m             label\u001b[38;5;241m=\u001b[39m\u001b[38;5;124m\"\u001b[39m\u001b[38;5;124mVoltage [V]\u001b[39m\u001b[38;5;124m\"\u001b[39m,\n\u001b[1;32m     10\u001b[0m             getter\u001b[38;5;241m=\u001b[39m\u001b[38;5;28;01mlambda\u001b[39;00m i: i\u001b[38;5;241m.\u001b[39mread_voltage(\u001b[38;5;241m1\u001b[39m),\n\u001b[1;32m     11\u001b[0m             setter\u001b[38;5;241m=\u001b[39m\u001b[38;5;28;01mlambda\u001b[39;00m i, v: i\u001b[38;5;241m.\u001b[39mset_voltage(\u001b[38;5;241m1\u001b[39m, v),\n\u001b[1;32m     12\u001b[0m             \u001b[38;5;28mmin\u001b[39m\u001b[38;5;241m=\u001b[39m\u001b[38;5;241m0.0\u001b[39m, \u001b[38;5;28mmax\u001b[39m\u001b[38;5;241m=\u001b[39m\u001b[38;5;241m6.0\u001b[39m, step\u001b[38;5;241m=\u001b[39m\u001b[38;5;241m0.05\u001b[39m,\n\u001b[1;32m     13\u001b[0m         ),\n\u001b[1;32m     14\u001b[0m         Slider(\n\u001b[1;32m     15\u001b[0m             label\u001b[38;5;241m=\u001b[39m\u001b[38;5;124m\"\u001b[39m\u001b[38;5;124mCurrent [A]\u001b[39m\u001b[38;5;124m\"\u001b[39m,\n\u001b[1;32m     16\u001b[0m             getter\u001b[38;5;241m=\u001b[39m\u001b[38;5;28;01mlambda\u001b[39;00m i: i\u001b[38;5;241m.\u001b[39mread_current(\u001b[38;5;241m1\u001b[39m),\n\u001b[1;32m     17\u001b[0m             setter\u001b[38;5;241m=\u001b[39m\u001b[38;5;28;01mlambda\u001b[39;00m i, c: i\u001b[38;5;241m.\u001b[39mset_current(\u001b[38;5;241m1\u001b[39m, c),\n\u001b[1;32m     18\u001b[0m             \u001b[38;5;28mmin\u001b[39m\u001b[38;5;241m=\u001b[39m\u001b[38;5;241m0.0\u001b[39m, \u001b[38;5;28mmax\u001b[39m\u001b[38;5;241m=\u001b[39m\u001b[38;5;241m5.0\u001b[39m, step\u001b[38;5;241m=\u001b[39m\u001b[38;5;241m0.05\u001b[39m,\n\u001b[1;32m     19\u001b[0m         ),\n\u001b[1;32m     20\u001b[0m         Toggle(\n\u001b[1;32m     21\u001b[0m             label\u001b[38;5;241m=\u001b[39m\u001b[38;5;124m\"\u001b[39m\u001b[38;5;124mOutput\u001b[39m\u001b[38;5;124m\"\u001b[39m,\n\u001b[1;32m     22\u001b[0m             getter\u001b[38;5;241m=\u001b[39m\u001b[38;5;28;01mlambda\u001b[39;00m i: i\u001b[38;5;241m.\u001b[39moutput(\u001b[38;5;241m1\u001b[39m),\n\u001b[1;32m     23\u001b[0m             setter\u001b[38;5;241m=\u001b[39m\u001b[38;5;28;01mlambda\u001b[39;00m i, state: i\u001b[38;5;241m.\u001b[39moutput(\u001b[38;5;241m1\u001b[39m, state),\n\u001b[1;32m     24\u001b[0m             on_desc\u001b[38;5;241m=\u001b[39m\u001b[38;5;124m\"\u001b[39m\u001b[38;5;124mON\u001b[39m\u001b[38;5;124m\"\u001b[39m, off_desc\u001b[38;5;241m=\u001b[39m\u001b[38;5;124m\"\u001b[39m\u001b[38;5;124mOFF\u001b[39m\u001b[38;5;124m\"\u001b[39m,\n\u001b[1;32m     25\u001b[0m         ),\n\u001b[1;32m     26\u001b[0m         Button(\n\u001b[1;32m     27\u001b[0m             label\u001b[38;5;241m=\u001b[39m\u001b[38;5;124m\"\u001b[39m\u001b[38;5;124m⟳ Refresh read-back\u001b[39m\u001b[38;5;124m\"\u001b[39m,\n\u001b[1;32m     28\u001b[0m             action\u001b[38;5;241m=\u001b[39m\u001b[38;5;28;01mlambda\u001b[39;00m i, p: p\u001b[38;5;241m.\u001b[39mrefresh(),\n\u001b[1;32m     29\u001b[0m         ),\n\u001b[1;32m     30\u001b[0m     ],\n\u001b[1;32m     31\u001b[0m )\n\u001b[1;32m     33\u001b[0m \u001b[38;5;66;03m# Move the slider, toggle the output – the PSU simulation follows immediately.\u001b[39;00m\n",
                        "\u001b[0;31mNameError\u001b[0m: name 'psu' is not defined"
                    ]
                }
            ],
            "source": [
                "\"\"## 2. Build a PSU control panel (Channel 1)\"\"\"\n",
                "from pytestlab.gui.builder import InstrumentPanel, Slider, Toggle, Button\n",
                "\n",
                "psu_panel = InstrumentPanel(\n",
                "    title=\"PSU – CH1 (Sim)\",\n",
                "    inst=awg,\n",
                "    controls=[\n",
                "        Slider(\n",
                "            label=\"Voltage [V]\",\n",
                "            getter=lambda i: i.set_amplitude(1),\n",
                "            setter=lambda i, v: i.set_voltage(1, v),\n",
                "            min=0.0, max=6.0, step=0.05,\n",
                "        ),\n",
                "        Slider(\n",
                "            label=\"Current [A]\",\n",
                "            getter=lambda i: i.read_current(1),\n",
                "            setter=lambda i, c: i.set_current(1, c),\n",
                "            min=0.0, max=5.0, step=0.05,\n",
                "        ),\n",
                "        Toggle(\n",
                "            label=\"Output\",\n",
                "            getter=lambda i: i.output(1),\n",
                "            setter=lambda i, state: i.output(1, state),\n",
                "            on_desc=\"ON\", off_desc=\"OFF\",\n",
                "        ),\n",
                "        Button(\n",
                "            label=\"⟳ Refresh read-back\",\n",
                "            action=lambda i, p: p.refresh(),\n",
                "        ),\n",
                "    ],\n",
                ")\n",
                "\n",
                "# Move the slider, toggle the output – the PSU simulation follows immediately."
            ]
        },
        {
            "cell_type": "code",
            "execution_count": null,
            "metadata": {},
            "outputs": [],
            "source": [
                "\"\"## 3. Build a DMM one-click read-out\"\"\"\n",
                "from pytestlab.config.multimeter_config import DMMFunction\n",
                "\n",
                "dmm_panel = InstrumentPanel(\n",
                "    title=\"DMM – DC Voltage (Sim)\",\n",
                "    inst=dmm,\n",
                "    controls=[\n",
                "        Button(\n",
                "            label=\"Measure\",\n",
                "            action=lambda dev, p: dev.measure(DMMFunction.VOLT_DC).then(lambda m: print(\"Measured:\", m)),\n",
                "            style=\"success\",\n",
                "        )\n",
                "    ],\n",
                ")\n",
                "\n",
                "# Click **Measure** – the value is printed and the coroutine runs in the background."
            ]
        },
        {
            "cell_type": "markdown",
            "metadata": {},
            "source": [
                "## Where to go next?\n",
                "\n",
                "* Add more `Slider`, `Toggle` or `Button` controls – everything is declarative.\n",
                "* Extend `pytestlab.gui.builder` with your own widget types (dropdowns, plots…).\n",
                "* Replace `simulate=True` with real VISA addresses and you have a *live* lab dashboard!"
            ]
        }
    ],
    "metadata": {
        "kernelspec": {
            "display_name": "lamb_exe",
            "language": "python",
            "name": "python3"
        },
        "language_info": {
            "codemirror_mode": {
                "name": "ipython",
                "version": 3
            },
            "file_extension": ".py",
            "mimetype": "text/x-python",
            "name": "python",
            "nbconvert_exporter": "python",
            "pygments_lexer": "ipython3",
            "version": "3.12.7"
        }
    },
    "nbformat": 4,
    "nbformat_minor": 5
}
