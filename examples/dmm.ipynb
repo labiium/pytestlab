{
 "cells": [
  {
   "cell_type": "code",
   "execution_count": 10,
   "metadata": {},
   "outputs": [
    {
     "name": "stdout",
     "output_type": "stream",
     "text": [
      "KEYSIGHT TECHNOLOGIES,DSOX1204G,CN63197144,02.12.2021071625\n"
     ]
    }
   ],
   "source": [
    "from pytestlab.instruments import AutoInstrument \n",
    "\n",
    "osc = AutoInstrument.from_config(\"keysight/DSOX1204G\")\n",
    "print(osc.id())"
   ]
  },
  {
   "cell_type": "code",
   "execution_count": null,
   "metadata": {},
   "outputs": [
    {
     "data": {
      "text/plain": [
       "shape: (1_000_000, 2)\n",
       "┌──────────┬───────────────┐\n",
       "│ Time (s) ┆ Channel 1 (V) │\n",
       "│ ---      ┆ ---           │\n",
       "│ f64      ┆ f64           │\n",
       "╞══════════╪═══════════════╡\n",
       "│ -0.001   ┆ 1.08          │\n",
       "│ -0.001   ┆ 0.999598      │\n",
       "│ -0.001   ┆ 0.999598      │\n",
       "│ -0.001   ┆ 0.999598      │\n",
       "│ -0.001   ┆ 1.08          │\n",
       "│ …        ┆ …             │\n",
       "│ 0.001    ┆ 0.838794      │\n",
       "│ 0.001    ┆ 0.999598      │\n",
       "│ 0.001    ┆ 0.999598      │\n",
       "│ 0.001    ┆ 0.919196      │\n",
       "│ 0.001    ┆ 0.919196      │\n",
       "└──────────┴───────────────┘"
      ]
     },
     "execution_count": 12,
     "metadata": {},
     "output_type": "execute_result"
    }
   ],
   "source": [
    "data = osc.read_channels(1)"
   ]
  },
  {
   "cell_type": "code",
   "execution_count": 3,
   "metadata": {},
   "outputs": [],
   "source": [
    "psu.set_voltage(2, 5)\n",
    "psu.set_current(2, 0.1)\n",
    "\n",
    "psu.set_voltage(1, 0)\n",
    "psu.set_current(1, 0.1)\n",
    "\n",
    "psu.set_voltage(3, 3.0)\n",
    "psu.set_current(3, 0.1)"
   ]
  },
  {
   "cell_type": "code",
   "execution_count": 4,
   "metadata": {},
   "outputs": [],
   "source": [
    "psu.output(1)\n",
    "psu.output(2)\n",
    "psu.output(3)"
   ]
  },
  {
   "cell_type": "code",
   "execution_count": 5,
   "metadata": {},
   "outputs": [
    {
     "data": {
      "text/plain": [
       "0.73457748 V"
      ]
     },
     "execution_count": 5,
     "metadata": {},
     "output_type": "execute_result"
    }
   ],
   "source": [
    "dmm.measure()"
   ]
  },
  {
   "cell_type": "code",
   "execution_count": 6,
   "metadata": {},
   "outputs": [],
   "source": [
    "psu.set_voltage(1, 5)"
   ]
  },
  {
   "cell_type": "code",
   "execution_count": 7,
   "metadata": {},
   "outputs": [
    {
     "data": {
      "text/plain": [
       "-6.72340982e-06 V"
      ]
     },
     "execution_count": 7,
     "metadata": {},
     "output_type": "execute_result"
    }
   ],
   "source": [
    "dmm.measure()"
   ]
  }
 ],
 "metadata": {
  "kernelspec": {
   "display_name": "pytestlab",
   "language": "python",
   "name": "python3"
  },
  "language_info": {
   "codemirror_mode": {
    "name": "ipython",
    "version": 3
   },
   "file_extension": ".py",
   "mimetype": "text/x-python",
   "name": "python",
   "nbconvert_exporter": "python",
   "pygments_lexer": "ipython3",
   "version": "3.12.7"
  }
 },
 "nbformat": 4,
 "nbformat_minor": 2
}
