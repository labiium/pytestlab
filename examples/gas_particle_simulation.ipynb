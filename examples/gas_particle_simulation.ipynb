{
 "cells": [
  {
   "cell_type": "markdown",
   "id": "ccd3ce9e",
   "metadata": {},
   "source": [
    "# Gas Particle Simulation\n",
    "\n",
    "This notebook demonstrates a simple 2D simulation of gas particles in a box. The simulation:\n",
    "- Shows particles bouncing off walls (elastic collisions)\n",
    "- Implements particle-particle collisions\n",
    "- Visualizes the motion in real-time\n",
    "- Tracks the system's kinetic energy"
   ]
  },
  {
   "cell_type": "markdown",
   "id": "8158eeff",
   "metadata": {},
   "source": [
    "## Import Required Libraries\n",
    "\n",
    "We'll need NumPy for calculations and Matplotlib for visualization."
   ]
  },
  {
   "cell_type": "code",
   "execution_count": null,
   "id": "cdda4d7c",
   "metadata": {},
   "outputs": [],
   "source": [
    "import numpy as np\n",
    "import matplotlib.pyplot as plt\n",
    "from matplotlib.animation import FuncAnimation\n",
    "import matplotlib.patches as patches\n",
    "\n",
    "%matplotlib inline"
   ]
  },
  {
   "cell_type": "markdown",
   "id": "b22ffb7a",
   "metadata": {},
   "source": [
    "## Simulation Parameters\n",
    "\n",
    "Define the parameters for our simulation. Feel free to adjust these values to see different behaviors."
   ]
  },
  {
   "cell_type": "code",
   "execution_count": null,
   "id": "d7077c7b",
   "metadata": {},
   "outputs": [],
   "source": [
    "# Simulation parameters\n",
    "num_particles = 50  # Number of particles\n",
    "box_size = 10.0     # Box dimensions (square)\n",
    "particle_radius = 0.2\n",
    "max_speed = 0.1     # Maximum initial speed"
   ]
  },
  {
   "cell_type": "markdown",
   "id": "4a19ca4b",
   "metadata": {},
   "source": [
    "## Initialize Particle Properties\n",
    "\n",
    "Create arrays for particle positions, velocities, and masses with random initial values."
   ]
  },
  {
   "cell_type": "code",
   "execution_count": null,
   "id": "ee994e40",
   "metadata": {},
   "outputs": [],
   "source": [
    "# Set random seed for reproducibility\n",
    "np.random.seed(42)\n",
    "\n",
    "# Particle properties: position, velocity, mass\n",
    "positions = np.random.uniform(particle_radius, box_size - particle_radius, size=(num_particles, 2))\n",
    "velocities = np.random.uniform(-max_speed, max_speed, size=(num_particles, 2))\n",
    "masses = np.ones(num_particles)  # All particles have the same mass\n",
    "\n",
    "print(f\"Initialized {num_particles} particles in a {box_size}x{box_size} box\")\n",
    "print(f\"Average initial speed: {np.mean(np.sqrt(velocities[:,0]**2 + velocities[:,1]**2)):.4f}\")"
   ]
  },
  {
   "cell_type": "markdown",
   "id": "bfb13caa",
   "metadata": {},
   "source": [
    "## Function for Handling Collisions\n",
    "\n",
    "This function handles both wall collisions and particle-particle collisions."
   ]
  },
  {
   "cell_type": "code",
   "execution_count": null,
   "id": "3fa2ad5b",
   "metadata": {},
   "outputs": [],
   "source": [
    "def handle_collisions(positions, velocities, masses, box_size, particle_radius):\n",
    "    \"\"\"\n",
    "    Handle collisions between particles and with walls\n",
    "    \"\"\"\n",
    "    # Check for collisions with walls\n",
    "    # Left and right walls\n",
    "    wall_collision_x = (positions[:, 0] <= particle_radius) | (positions[:, 0] >= box_size - particle_radius)\n",
    "    velocities[wall_collision_x, 0] *= -1  # Reverse x velocity\n",
    "    \n",
    "    # Top and bottom walls\n",
    "    wall_collision_y = (positions[:, 1] <= particle_radius) | (positions[:, 1] >= box_size - particle_radius)\n",
    "    velocities[wall_collision_y, 1] *= -1  # Reverse y velocity\n",
    "    \n",
    "    # Keep particles inside the box\n",
    "    positions[:, 0] = np.clip(positions[:, 0], particle_radius, box_size - particle_radius)\n",
    "    positions[:, 1] = np.clip(positions[:, 1], particle_radius, box_size - particle_radius)\n",
    "    \n",
    "    # Check for collisions between particles\n",
    "    for i in range(len(positions)):\n",
    "        for j in range(i+1, len(positions)):\n",
    "            # Calculate distance between particles\n",
    "            dx = positions[j, 0] - positions[i, 0]\n",
    "            dy = positions[j, 1] - positions[i, 1]\n",
    "            distance = np.sqrt(dx**2 + dy**2)\n",
    "            \n",
    "            # Check if particles overlap (collision)\n",
    "            if distance <= 2 * particle_radius:\n",
    "                # Collision handling with elastic collision physics\n",
    "                # Normal direction\n",
    "                nx = dx / distance\n",
    "                ny = dy / distance\n",
    "                \n",
    "                # Relative velocity\n",
    "                dvx = velocities[j, 0] - velocities[i, 0]\n",
    "                dvy = velocities[j, 1] - velocities[i, 1]\n",
    "                \n",
    "                # Project velocity onto normal direction\n",
    "                vn = dvx * nx + dvy * ny\n",
    "                \n",
    "                # Ignore if particles are moving away from each other\n",
    "                if vn < 0:\n",
    "                    # Impulse formula for elastic collision\n",
    "                    impulse = 2 * vn / (1/masses[i] + 1/masses[j])\n",
    "                    \n",
    "                    # Apply impulse\n",
    "                    velocities[i, 0] += impulse * nx / masses[i]\n",
    "                    velocities[i, 1] += impulse * ny / masses[i]\n",
    "                    velocities[j, 0] -= impulse * nx / masses[j]\n",
    "                    velocities[j, 1] -= impulse * ny / masses[j]\n",
    "                    \n",
    "                    # Move particles slightly to avoid overlap\n",
    "                    overlap = 2 * particle_radius - distance\n",
    "                    positions[i, 0] -= overlap * nx / 2\n",
    "                    positions[i, 1] -= overlap * ny / 2\n",
    "                    positions[j, 0] += overlap * nx / 2\n",
    "                    positions[j, 1] += overlap * ny / 2\n",
    "    \n",
    "    return positions, velocities"
   ]
  },
  {
   "cell_type": "markdown",
   "id": "28570411",
   "metadata": {},
   "source": [
    "## Simulation Function\n",
    "\n",
    "This function advances the simulation by one time step and returns the updated positions."
   ]
  },
  {
   "cell_type": "code",
   "execution_count": null,
   "id": "99ad331d",
   "metadata": {},
   "outputs": [],
   "source": [
    "def update_simulation(positions, velocities, masses, box_size, particle_radius):\n",
    "    \"\"\"\n",
    "    Update particle positions and handle collisions\n",
    "    \"\"\"\n",
    "    # Update positions\n",
    "    positions += velocities\n",
    "    \n",
    "    # Handle collisions\n",
    "    positions, velocities = handle_collisions(positions, velocities, masses, box_size, particle_radius)\n",
    "    \n",
    "    # Calculate kinetic energy\n",
    "    kinetic_energy = 0.5 * np.sum(masses[:, np.newaxis] * velocities**2)\n",
    "    \n",
    "    return positions.copy(), velocities.copy(), kinetic_energy"
   ]
  },
  {
   "cell_type": "markdown",
   "id": "7605ac57",
   "metadata": {},
   "source": [
    "## Visualization Setup\n",
    "\n",
    "Now let's set up the visualization for our particle simulation. We'll use matplotlib to draw the box and particles."
   ]
  },
  {
   "cell_type": "code",
   "execution_count": null,
   "id": "83df9653",
   "metadata": {},
   "outputs": [],
   "source": [
    "def setup_visualization(positions, box_size, particle_radius):\n",
    "    \"\"\"Set up the figure and axes for visualization\"\"\"\n",
    "    fig, ax = plt.subplots(figsize=(8, 8))\n",
    "    ax.set_xlim(0, box_size)\n",
    "    ax.set_ylim(0, box_size)\n",
    "    ax.set_aspect('equal')\n",
    "    ax.set_title('Gas Particle Simulation')\n",
    "    \n",
    "    # Create box borders\n",
    "    box = patches.Rectangle((0, 0), box_size, box_size, linewidth=2, \n",
    "                          edgecolor='black', facecolor='none')\n",
    "    ax.add_patch(box)\n",
    "    \n",
    "    # Create particles (circles)\n",
    "    circles = [plt.Circle((positions[i, 0], positions[i, 1]), \n",
    "                         particle_radius, color='blue', alpha=0.7) \n",
    "              for i in range(len(positions))]\n",
    "    \n",
    "    for circle in circles:\n",
    "        ax.add_patch(circle)\n",
    "    \n",
    "    # Text for displaying kinetic energy\n",
    "    energy_text = ax.text(0.02, 0.95, '', transform=ax.transAxes)\n",
    "    \n",
    "    return fig, ax, circles, energy_text"
   ]
  },
  {
   "cell_type": "markdown",
   "id": "829eb574",
   "metadata": {},
   "source": [
    "## Animation Function\n",
    "\n",
    "This function updates the animation frame by frame. For Jupyter notebooks, we need to use a special animation approach."
   ]
  },
  {
   "cell_type": "code",
   "execution_count": null,
   "id": "d96487bc",
   "metadata": {},
   "outputs": [],
   "source": [
    "def animate_gas_particles():\n",
    "    # Create a copy of the initial state\n",
    "    pos = positions.copy()\n",
    "    vel = velocities.copy()\n",
    "    \n",
    "    # Set up visualization\n",
    "    fig, ax, circles, energy_text = setup_visualization(pos, box_size, particle_radius)\n",
    "    \n",
    "    def update(frame):\n",
    "        nonlocal pos, vel\n",
    "        \n",
    "        # Update simulation\n",
    "        pos, vel, kinetic_energy = update_simulation(pos, vel, masses, box_size, particle_radius)\n",
    "        \n",
    "        # Update circle positions\n",
    "        for i, circle in enumerate(circles):\n",
    "            circle.center = pos[i, 0], pos[i, 1]\n",
    "        \n",
    "        # Update energy text\n",
    "        energy_text.set_text(f'Kinetic Energy: {kinetic_energy:.2f}')\n",
    "        \n",
    "        return circles + [energy_text]\n",
    "    \n",
    "    # Create animation\n",
    "    anim = FuncAnimation(fig, update, frames=200, interval=20, blit=True)\n",
    "    plt.close()  # Prevent duplicate display in Jupyter\n",
    "    \n",
    "    # Display the animation\n",
    "    from IPython.display import HTML\n",
    "    return HTML(anim.to_jshtml())\n",
    "\n",
    "# Run the animation\n",
    "animate_gas_particles()"
   ]
  },
  {
   "cell_type": "markdown",
   "id": "bf23ab0e",
   "metadata": {},
   "source": [
    "## Analyzing the Physics\n",
    "\n",
    "Let's run the simulation for many steps and track the kinetic energy over time to analyze the system behavior."
   ]
  },
  {
   "cell_type": "code",
   "execution_count": null,
   "id": "8cfdf6c8",
   "metadata": {},
   "outputs": [],
   "source": [
    "def run_simulation_analysis(steps=1000):\n",
    "    # Reset to initial conditions\n",
    "    pos = positions.copy()\n",
    "    vel = velocities.copy()\n",
    "    \n",
    "    # Arrays to store data\n",
    "    kinetic_energies = np.zeros(steps)\n",
    "    velocities_distribution = []\n",
    "    \n",
    "    # Run simulation\n",
    "    for step in range(steps):\n",
    "        pos, vel, kinetic_energies[step] = update_simulation(pos, vel, masses, box_size, particle_radius)\n",
    "        \n",
    "        # Every 100 steps, record velocity distribution\n",
    "        if step % 100 == 0:\n",
    "            speeds = np.sqrt(vel[:,0]**2 + vel[:,1]**2)\n",
    "            velocities_distribution.append(speeds)\n",
    "    \n",
    "    # Plot kinetic energy over time\n",
    "    plt.figure(figsize=(10, 4))\n",
    "    plt.plot(kinetic_energies)\n",
    "    plt.xlabel('Time Step')\n",
    "    plt.ylabel('Kinetic Energy')\n",
    "    plt.title('Kinetic Energy Conservation')\n",
    "    plt.grid(True)\n",
    "    plt.show()\n",
    "    \n",
    "    # Plot final velocity distribution\n",
    "    plt.figure(figsize=(8, 5))\n",
    "    plt.hist(velocities_distribution[-1], bins=15, alpha=0.7)\n",
    "    plt.xlabel('Particle Speed')\n",
    "    plt.ylabel('Count')\n",
    "    plt.title('Maxwell-Boltzmann Speed Distribution')\n",
    "    plt.grid(True)\n",
    "    plt.show()\n",
    "    \n",
    "    return {\n",
    "        'avg_kinetic_energy': np.mean(kinetic_energies),\n",
    "        'std_kinetic_energy': np.std(kinetic_energies),\n",
    "        'final_positions': pos,\n",
    "        'final_velocities': vel\n",
    "    }\n",
    "\n",
    "# Run the analysis\n",
    "results = run_simulation_analysis(steps=500)\n",
    "print(f\"Average Kinetic Energy: {results['avg_kinetic_energy']:.4f} ± {results['std_kinetic_energy']:.4f}\")"
   ]
  },
  {
   "cell_type": "markdown",
   "id": "e76e57f8",
   "metadata": {},
   "source": [
    "## Conclusion\n",
    "\n",
    "This simulation demonstrates several key principles of statistical mechanics:\n",
    "\n",
    "1. **Conservation of Energy**: The total kinetic energy remains approximately constant\n",
    "2. **Maxwell-Boltzmann Distribution**: The distribution of particle speeds approaches this theoretical distribution\n",
    "3. **Pressure**: The particles exert pressure on the walls through collisions\n",
    "\n",
    "You can experiment with different parameters like:\n",
    "- Changing the number of particles\n",
    "- Varying particle sizes\n",
    "- Adjusting the initial velocity distribution\n",
    "- Adding external forces (like gravity)\n",
    "\n",
    "These modifications would allow you to simulate different physical systems and phenomena."
   ]
  }
 ],
 "metadata": {
  "language_info": {
   "name": "python"
  }
 },
 "nbformat": 4,
 "nbformat_minor": 5
}
