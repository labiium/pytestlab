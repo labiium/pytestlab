{
 "cells": [
  {
   "cell_type": "code",
   "execution_count": 1,
   "id": "f79eaab8-a950-4d3a-b9e5-d8858f25ad64",
   "metadata": {},
   "outputs": [],
   "source": [
    "from pyscpi import usbtmc\n",
    "\n",
    "osc = usbtmc.Instrument(0x2a8d, 0x0396)\n",
    "psu = usbtmc.Instrument(0x2a8d, 0x8f01)\n",
    "dmu = usbtmc.Instrument(0x2a8d, 0x8e01)\n",
    "awg = usbtmc.Instrument(0x2a8d, 0x8d01)"
   ]
  },
  {
   "cell_type": "code",
   "execution_count": 2,
   "id": "bca4047f-3d85-421e-977a-559a6ddd9e7f",
   "metadata": {},
   "outputs": [
    {
     "data": {
      "text/plain": [
       "'Keysight Technologies,EDU36311A,CN62250050,K-01.05.03-01.00-01.05-01.01'"
      ]
     },
     "execution_count": 2,
     "metadata": {},
     "output_type": "execute_result"
    }
   ],
   "source": [
    "psu.query(\"*IDN?\")"
   ]
  },
  {
   "cell_type": "code",
   "execution_count": 3,
   "id": "1208a1c1-03c6-4d68-8c4b-2e1eafa621f4",
   "metadata": {},
   "outputs": [
    {
     "data": {
      "text/plain": [
       "'KEYSIGHT TECHNOLOGIES,DSOX1204G,CN62277224,02.12.2021071625'"
      ]
     },
     "execution_count": 3,
     "metadata": {},
     "output_type": "execute_result"
    }
   ],
   "source": [
    "osc.query(\"*IDN?\")"
   ]
  },
  {
   "cell_type": "code",
   "execution_count": 9,
   "id": "f7d448a7-7f86-4cc7-b860-48eee051bd79",
   "metadata": {},
   "outputs": [],
   "source": [
    "awg.write(\"*RST\")\n",
    "awg.write(\"OUTPut1:STATe ON\")\n",
    "awg.write(\":SOUR1:FUNC SIN\")"
   ]
  },
  {
   "cell_type": "code",
   "execution_count": 19,
   "id": "ed2b4b13-fd7d-4b98-8721-7732867085e7",
   "metadata": {},
   "outputs": [],
   "source": [
    "awg.write(':FREQ 25e3')"
   ]
  },
  {
   "cell_type": "code",
   "execution_count": 24,
   "id": "c134f446-a3e7-42db-861f-4dc5f592e6d4",
   "metadata": {},
   "outputs": [],
   "source": [
    "awg.write(\":VOLT 1.8\")"
   ]
  },
  {
   "cell_type": "code",
   "execution_count": 25,
   "id": "273f49e9-a028-4cc4-857e-096e05021cc3",
   "metadata": {},
   "outputs": [],
   "source": [
    "osc.write(\"CHAN1:DISP OFF\")"
   ]
  },
  {
   "cell_type": "code",
   "execution_count": 26,
   "id": "35ee777d-1fc4-41b7-bea9-bed69be15084",
   "metadata": {},
   "outputs": [],
   "source": [
    "osc.write(\"CHAN2:DISP ON\")"
   ]
  },
  {
   "cell_type": "code",
   "execution_count": 35,
   "id": "853fd3d2-efc6-4729-b2c4-e532d8c1982b",
   "metadata": {},
   "outputs": [],
   "source": [
    "osc.write(\"TRIGger:SOURce CHAN2\")"
   ]
  },
  {
   "cell_type": "code",
   "execution_count": 41,
   "id": "95e9b8cb-4c6a-4c83-8565-46c2415a9279",
   "metadata": {},
   "outputs": [],
   "source": [
    "osc.write(\"TIM:SCAL 1e-5\")"
   ]
  },
  {
   "cell_type": "code",
   "execution_count": 47,
   "id": "8df8dca2-f02d-4efe-92d9-4581a757b8f3",
   "metadata": {},
   "outputs": [],
   "source": [
    "osc.write(\"CHAN2:SCAL 10\")"
   ]
  },
  {
   "cell_type": "code",
   "execution_count": null,
   "id": "3e58fbfe-368e-4449-bdbc-f4c59ab41229",
   "metadata": {},
   "outputs": [],
   "source": []
  }
 ],
 "metadata": {
  "kernelspec": {
   "display_name": "Python 3 (ipykernel)",
   "language": "python",
   "name": "python3"
  },
  "language_info": {
   "codemirror_mode": {
    "name": "ipython",
    "version": 3
   },
   "file_extension": ".py",
   "mimetype": "text/x-python",
   "name": "python",
   "nbconvert_exporter": "python",
   "pygments_lexer": "ipython3",
   "version": "3.11.4"
  }
 },
 "nbformat": 4,
 "nbformat_minor": 5
}
