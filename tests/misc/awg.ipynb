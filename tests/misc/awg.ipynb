{
 "cells": [
  {
   "cell_type": "code",
   "execution_count": 1,
   "metadata": {},
   "outputs": [
    {
     "ename": "SCPIConnectionError",
     "evalue": "Failed to connect to the instrument: VI_ERROR_RSRC_NFOUND (-1073807343): Insufficient location information or the requested device or resource is not present in the system.",
     "output_type": "error",
     "traceback": [
      "\u001b[1;31m---------------------------------------------------------------------------\u001b[0m",
      "\u001b[1;31mVisaIOError\u001b[0m                               Traceback (most recent call last)",
      "File \u001b[1;32mf:\\akali\\pytestlab\\pytestlab\\instruments\\instrument.py:36\u001b[0m, in \u001b[0;36mSCPIInstrument._connect\u001b[1;34m(self)\u001b[0m\n\u001b[0;32m     35\u001b[0m     \u001b[39mimport\u001b[39;00m \u001b[39mpyvisa\u001b[39;00m\n\u001b[1;32m---> 36\u001b[0m     \u001b[39mself\u001b[39m\u001b[39m.\u001b[39minstrument \u001b[39m=\u001b[39m pyvisa\u001b[39m.\u001b[39;49mResourceManager()\u001b[39m.\u001b[39;49mopen_resource(\u001b[39mself\u001b[39;49m\u001b[39m.\u001b[39;49mvisa_resource)\n\u001b[0;32m     37\u001b[0m \u001b[39mexcept\u001b[39;00m \u001b[39mException\u001b[39;00m \u001b[39mas\u001b[39;00m e:\n",
      "File \u001b[1;32mc:\\Users\\Emman\\.conda\\envs\\pytestlab\\Lib\\site-packages\\pyvisa\\highlevel.py:3284\u001b[0m, in \u001b[0;36mResourceManager.open_resource\u001b[1;34m(self, resource_name, access_mode, open_timeout, resource_pyclass, **kwargs)\u001b[0m\n\u001b[0;32m   3279\u001b[0m         \u001b[39mraise\u001b[39;00m \u001b[39mValueError\u001b[39;00m(\n\u001b[0;32m   3280\u001b[0m             \u001b[39m\"\u001b[39m\u001b[39m%r\u001b[39;00m\u001b[39m is not a valid attribute for type \u001b[39m\u001b[39m%s\u001b[39;00m\u001b[39m\"\u001b[39m\n\u001b[0;32m   3281\u001b[0m             \u001b[39m%\u001b[39m (key, res\u001b[39m.\u001b[39m\u001b[39m__class__\u001b[39m\u001b[39m.\u001b[39m\u001b[39m__name__\u001b[39m)\n\u001b[0;32m   3282\u001b[0m         )\n\u001b[1;32m-> 3284\u001b[0m res\u001b[39m.\u001b[39;49mopen(access_mode, open_timeout)\n\u001b[0;32m   3286\u001b[0m \u001b[39mfor\u001b[39;00m key, value \u001b[39min\u001b[39;00m kwargs\u001b[39m.\u001b[39mitems():\n",
      "File \u001b[1;32mc:\\Users\\Emman\\.conda\\envs\\pytestlab\\Lib\\site-packages\\pyvisa\\resources\\resource.py:282\u001b[0m, in \u001b[0;36mResource.open\u001b[1;34m(self, access_mode, open_timeout)\u001b[0m\n\u001b[0;32m    279\u001b[0m \u001b[39mwith\u001b[39;00m \u001b[39mself\u001b[39m\u001b[39m.\u001b[39m_resource_manager\u001b[39m.\u001b[39mignore_warning(\n\u001b[0;32m    280\u001b[0m     constants\u001b[39m.\u001b[39mStatusCode\u001b[39m.\u001b[39msuccess_device_not_present\n\u001b[0;32m    281\u001b[0m ):\n\u001b[1;32m--> 282\u001b[0m     \u001b[39mself\u001b[39m\u001b[39m.\u001b[39msession, status \u001b[39m=\u001b[39m \u001b[39mself\u001b[39;49m\u001b[39m.\u001b[39;49m_resource_manager\u001b[39m.\u001b[39;49mopen_bare_resource(\n\u001b[0;32m    283\u001b[0m         \u001b[39mself\u001b[39;49m\u001b[39m.\u001b[39;49m_resource_name, access_mode, open_timeout\n\u001b[0;32m    284\u001b[0m     )\n\u001b[0;32m    286\u001b[0m     \u001b[39mif\u001b[39;00m status \u001b[39m==\u001b[39m constants\u001b[39m.\u001b[39mStatusCode\u001b[39m.\u001b[39msuccess_device_not_present:\n\u001b[0;32m    287\u001b[0m         \u001b[39m# The device was not ready when we opened the session.\u001b[39;00m\n\u001b[0;32m    288\u001b[0m         \u001b[39m# Now it gets five seconds more to become ready.\u001b[39;00m\n\u001b[0;32m    289\u001b[0m         \u001b[39m# Every 0.1 seconds we probe it with viClear.\u001b[39;00m\n",
      "File \u001b[1;32mc:\\Users\\Emman\\.conda\\envs\\pytestlab\\Lib\\site-packages\\pyvisa\\highlevel.py:3209\u001b[0m, in \u001b[0;36mResourceManager.open_bare_resource\u001b[1;34m(self, resource_name, access_mode, open_timeout)\u001b[0m\n\u001b[0;32m   3186\u001b[0m \u001b[39m\u001b[39m\u001b[39m\"\"\"Open the specified resource without wrapping into a class.\u001b[39;00m\n\u001b[0;32m   3187\u001b[0m \n\u001b[0;32m   3188\u001b[0m \u001b[39mParameters\u001b[39;00m\n\u001b[1;32m   (...)\u001b[0m\n\u001b[0;32m   3207\u001b[0m \n\u001b[0;32m   3208\u001b[0m \u001b[39m\"\"\"\u001b[39;00m\n\u001b[1;32m-> 3209\u001b[0m \u001b[39mreturn\u001b[39;00m \u001b[39mself\u001b[39;49m\u001b[39m.\u001b[39;49mvisalib\u001b[39m.\u001b[39;49mopen(\u001b[39mself\u001b[39;49m\u001b[39m.\u001b[39;49msession, resource_name, access_mode, open_timeout)\n",
      "File \u001b[1;32mc:\\Users\\Emman\\.conda\\envs\\pytestlab\\Lib\\site-packages\\pyvisa\\ctwrapper\\functions.py:1851\u001b[0m, in \u001b[0;36mopen\u001b[1;34m(library, session, resource_name, access_mode, open_timeout)\u001b[0m\n\u001b[0;32m   1849\u001b[0m \u001b[39m# [ViSession, ViRsrc, ViAccessMode, ViUInt32, ViPSession]\u001b[39;00m\n\u001b[0;32m   1850\u001b[0m \u001b[39m# ViRsrc converts from (str, unicode, bytes) to bytes\u001b[39;00m\n\u001b[1;32m-> 1851\u001b[0m ret \u001b[39m=\u001b[39m library\u001b[39m.\u001b[39;49mviOpen(\n\u001b[0;32m   1852\u001b[0m     session, resource_name, access_mode, open_timeout, byref(out_session)\n\u001b[0;32m   1853\u001b[0m )\n\u001b[0;32m   1854\u001b[0m \u001b[39mreturn\u001b[39;00m out_session\u001b[39m.\u001b[39mvalue, ret\n",
      "File \u001b[1;32mc:\\Users\\Emman\\.conda\\envs\\pytestlab\\Lib\\site-packages\\pyvisa\\ctwrapper\\highlevel.py:226\u001b[0m, in \u001b[0;36mIVIVisaLibrary._return_handler\u001b[1;34m(self, ret_value, func, arguments)\u001b[0m\n\u001b[0;32m    224\u001b[0m         session \u001b[39m=\u001b[39m \u001b[39mNone\u001b[39;00m\n\u001b[1;32m--> 226\u001b[0m \u001b[39mreturn\u001b[39;00m \u001b[39mself\u001b[39;49m\u001b[39m.\u001b[39;49mhandle_return_value(session, ret_value)\n",
      "File \u001b[1;32mc:\\Users\\Emman\\.conda\\envs\\pytestlab\\Lib\\site-packages\\pyvisa\\highlevel.py:251\u001b[0m, in \u001b[0;36mVisaLibraryBase.handle_return_value\u001b[1;34m(self, session, status_code)\u001b[0m\n\u001b[0;32m    250\u001b[0m \u001b[39mif\u001b[39;00m rv \u001b[39m<\u001b[39m \u001b[39m0\u001b[39m:\n\u001b[1;32m--> 251\u001b[0m     \u001b[39mraise\u001b[39;00m errors\u001b[39m.\u001b[39mVisaIOError(rv)\n\u001b[0;32m    253\u001b[0m \u001b[39mif\u001b[39;00m rv \u001b[39min\u001b[39;00m \u001b[39mself\u001b[39m\u001b[39m.\u001b[39missue_warning_on:\n",
      "\u001b[1;31mVisaIOError\u001b[0m: VI_ERROR_RSRC_NFOUND (-1073807343): Insufficient location information or the requested device or resource is not present in the system.",
      "\nDuring handling of the above exception, another exception occurred:\n",
      "\u001b[1;31mSCPIConnectionError\u001b[0m                       Traceback (most recent call last)",
      "\u001b[1;32mf:\\AKALI\\PyTestLab\\tests\\awg.ipynb Cell 1\u001b[0m line \u001b[0;36m6\n\u001b[0;32m      <a href='vscode-notebook-cell:/f%3A/AKALI/PyTestLab/tests/awg.ipynb#W0sZmlsZQ%3D%3D?line=1'>2</a>\u001b[0m \u001b[39mfrom\u001b[39;00m \u001b[39mpytestlab\u001b[39;00m\u001b[39m.\u001b[39;00m\u001b[39mprofiles\u001b[39;00m\u001b[39m.\u001b[39;00m\u001b[39mkeysight\u001b[39;00m\u001b[39m.\u001b[39;00m\u001b[39msmartbench\u001b[39;00m \u001b[39mimport\u001b[39;00m awg_profile\n\u001b[0;32m      <a href='vscode-notebook-cell:/f%3A/AKALI/PyTestLab/tests/awg.ipynb#W0sZmlsZQ%3D%3D?line=3'>4</a>\u001b[0m wave_visa_resource \u001b[39m=\u001b[39m \u001b[39m\"\u001b[39m\u001b[39mTCPIP::169.254.237.226::inst0::INSTR\u001b[39m\u001b[39m\"\u001b[39m\n\u001b[1;32m----> <a href='vscode-notebook-cell:/f%3A/AKALI/PyTestLab/tests/awg.ipynb#W0sZmlsZQ%3D%3D?line=5'>6</a>\u001b[0m awg \u001b[39m=\u001b[39m WaveformGenerator(visa_resource\u001b[39m=\u001b[39;49mwave_visa_resource, profile\u001b[39m=\u001b[39;49mawg_profile[\u001b[39m\"\u001b[39;49m\u001b[39mEDU33212A\u001b[39;49m\u001b[39m\"\u001b[39;49m])\n",
      "File \u001b[1;32mf:\\akali\\pytestlab\\pytestlab\\instruments\\WaveformGenerator.py:15\u001b[0m, in \u001b[0;36mWaveformGenerator.__init__\u001b[1;34m(self, visa_resource, profile, debug_mode)\u001b[0m\n\u001b[0;32m      7\u001b[0m \u001b[39mdef\u001b[39;00m \u001b[39m__init__\u001b[39m(\u001b[39mself\u001b[39m, visa_resource\u001b[39m=\u001b[39m\u001b[39mNone\u001b[39;00m, profile\u001b[39m=\u001b[39m\u001b[39mNone\u001b[39;00m, debug_mode\u001b[39m=\u001b[39m\u001b[39mFalse\u001b[39;00m):\n\u001b[0;32m      8\u001b[0m \u001b[39m    \u001b[39m\u001b[39m\"\"\"\u001b[39;00m\n\u001b[0;32m      9\u001b[0m \u001b[39m    Initialize a WaveformGenerator instance with a device profile.\u001b[39;00m\n\u001b[0;32m     10\u001b[0m \n\u001b[1;32m   (...)\u001b[0m\n\u001b[0;32m     13\u001b[0m \n\u001b[0;32m     14\u001b[0m \u001b[39m    \"\"\"\u001b[39;00m\n\u001b[1;32m---> 15\u001b[0m     \u001b[39msuper\u001b[39;49m()\u001b[39m.\u001b[39;49m\u001b[39m__init__\u001b[39;49m(visa_resource\u001b[39m=\u001b[39;49mvisa_resource, profile\u001b[39m=\u001b[39;49mprofile, debug_mode\u001b[39m=\u001b[39;49mdebug_mode)\n\u001b[0;32m     16\u001b[0m     \u001b[39massert\u001b[39;00m \u001b[39m\"\u001b[39m\u001b[39mmodel\u001b[39m\u001b[39m\"\u001b[39m \u001b[39min\u001b[39;00m \u001b[39mself\u001b[39m\u001b[39m.\u001b[39mprofile, \u001b[39m\"\u001b[39m\u001b[39mWaveform Generator model not specified in profile.\u001b[39m\u001b[39m\"\u001b[39m\n",
      "File \u001b[1;32mf:\\akali\\pytestlab\\pytestlab\\instruments\\instrument.py:23\u001b[0m, in \u001b[0;36mSCPIInstrument.__init__\u001b[1;34m(self, visa_resource, profile, debug_mode)\u001b[0m\n\u001b[0;32m     21\u001b[0m \u001b[39mif\u001b[39;00m visa_resource:\n\u001b[0;32m     22\u001b[0m     \u001b[39mself\u001b[39m\u001b[39m.\u001b[39mvisa_resource \u001b[39m=\u001b[39m visa_resource\n\u001b[1;32m---> 23\u001b[0m     \u001b[39mself\u001b[39;49m\u001b[39m.\u001b[39;49m_connect()\n\u001b[0;32m     24\u001b[0m \u001b[39melif\u001b[39;00m \u001b[39m\"\u001b[39m\u001b[39mvendor_id\u001b[39m\u001b[39m\"\u001b[39m \u001b[39min\u001b[39;00m profile \u001b[39mand\u001b[39;00m \u001b[39m\"\u001b[39m\u001b[39mproduct_id\u001b[39m\u001b[39m\"\u001b[39m \u001b[39min\u001b[39;00m profile:\n\u001b[0;32m     25\u001b[0m     \u001b[39mself\u001b[39m\u001b[39m.\u001b[39minstrument \u001b[39m=\u001b[39m usbtmc\u001b[39m.\u001b[39mInstrument(profile[\u001b[39m\"\u001b[39m\u001b[39mvendor_id\u001b[39m\u001b[39m\"\u001b[39m], profile[\u001b[39m\"\u001b[39m\u001b[39mproduct_id\u001b[39m\u001b[39m\"\u001b[39m])\n",
      "File \u001b[1;32mf:\\akali\\pytestlab\\pytestlab\\instruments\\instrument.py:38\u001b[0m, in \u001b[0;36mSCPIInstrument._connect\u001b[1;34m(self)\u001b[0m\n\u001b[0;32m     36\u001b[0m     \u001b[39mself\u001b[39m\u001b[39m.\u001b[39minstrument \u001b[39m=\u001b[39m pyvisa\u001b[39m.\u001b[39mResourceManager()\u001b[39m.\u001b[39mopen_resource(\u001b[39mself\u001b[39m\u001b[39m.\u001b[39mvisa_resource)\n\u001b[0;32m     37\u001b[0m \u001b[39mexcept\u001b[39;00m \u001b[39mException\u001b[39;00m \u001b[39mas\u001b[39;00m e:\n\u001b[1;32m---> 38\u001b[0m     \u001b[39mraise\u001b[39;00m SCPIConnectionError(\u001b[39mf\u001b[39m\u001b[39m\"\u001b[39m\u001b[39mFailed to connect to the instrument: \u001b[39m\u001b[39m{\u001b[39;00m\u001b[39mstr\u001b[39m(e)\u001b[39m}\u001b[39;00m\u001b[39m\"\u001b[39m)\n",
      "\u001b[1;31mSCPIConnectionError\u001b[0m: Failed to connect to the instrument: VI_ERROR_RSRC_NFOUND (-1073807343): Insufficient location information or the requested device or resource is not present in the system."
     ]
    }
   ],
   "source": [
    "from pytestlab.instruments.WaveformGenerator import WaveformGenerator\n",
    "from pytestlab.profiles.keysight.smartbench import awg_profile\n",
    "\n",
    "wave_visa_resource = \"TCPIP::169.254.237.226::inst0::INSTR\"\n",
    "\n",
    "awg = WaveformGenerator(visa_resource=wave_visa_resource, profile=awg_profile[\"EDU33212A\"])"
   ]
  },
  {
   "cell_type": "code",
   "execution_count": 5,
   "metadata": {},
   "outputs": [],
   "source": [
    "awg.reset()"
   ]
  },
  {
   "cell_type": "code",
   "execution_count": 6,
   "metadata": {},
   "outputs": [],
   "source": [
    "import numpy as np\n",
    "\n",
    "# Load the numpy array from the file\n",
    "array_data = np.load('awg_raw.npy')\n"
   ]
  },
  {
   "cell_type": "code",
   "execution_count": 4,
   "metadata": {},
   "outputs": [],
   "source": [
    "# Normalize the data to signed 16 bit\n",
    "max_val = 32767\n",
    "min_val = -32767\n",
    "scaled_data = (array_data - np.min(array_data)) / (np.max(array_data) - np.min(array_data))\n",
    "normalized_data = scaled_data * (max_val - min_val) + min_val"
   ]
  },
  {
   "cell_type": "code",
   "execution_count": 5,
   "metadata": {},
   "outputs": [
    {
     "data": {
      "image/png": "[encoded data removed]",
      "text/plain": [
       "<Figure size 640x480 with 1 Axes>"
      ]
     },
     "metadata": {},
     "output_type": "display_data"
    }
   ],
   "source": [
    "import matplotlib.pyplot as plt\n",
    "\n",
    "# Plot the normalized data\n",
    "plt.plot(normalized_data)\n",
    "plt.title(\"Normalized AWG Data Plot\")\n",
    "plt.xlabel(\"Sample Number\")\n",
    "plt.ylabel(\"Value\")\n",
    "plt.show()"
   ]
  },
  {
   "cell_type": "code",
   "execution_count": 6,
   "metadata": {},
   "outputs": [
    {
     "name": "stdout",
     "output_type": "stream",
     "text": [
      "-19485, -19464, -19446, -19429, -19415, -19403, -19392, -19381, -19368, -19353, -19334, -19313, -19288, -19260, -19226, -19187, -19141, -19088, -19031, -18972, -18910, -18846, -18781, -18717, -18656, -18598, -18546, -18498, -18451, -18406, -18359, -18310, -18257, -18198, -18129, -18049, -17956, -17852, -17737, -17612, -17478, -17336, -17187, -17031, -16874, -16717, -16561, -16405, -16249, -16094, -15939, -15786, -15633, -15480, -15324, -15163, -14995, -14820, -14636, -14442, -14236, -14017, -13786, -13544, -13295, -13040, -12784, -12527, -12274, -12029, -11794, -11571, -11359, -11156, -10958, -10763, -10569, -10372, -10170, -9959, -9737, -9504, -9263, -9017, -8771, -8528, -8293, -8069, -7860, -7672, -7506, -7363, -7244, -7144, -7062, -6996, -6943, -6903, -6872, -6846, -6824, -6805, -6788, -6776, -6768, -6766, -6769, -6777, -6792, -6815, -6848, -6891, -6945, -7009, -7083, -7168, -7263, -7371, -7491, -7622, -7765, -7917, -8079, -8251, -8430, -8617, -8809, -9005, -9201, -9397, -9592, -9782, -9968, -10149, -10326, -10498, -10667, -10833, -11001, -11171, -11347, -11532, -11729, -11940, -12164, -12403, -12658, -12928, -13211, -13505, -13806, -14109, -14411, -14708, -14996, -15271, -15531, -15775, -16002, -16213, -16408, -16590, -16762, -16927, -17088, -17248, -17409, -17571, -17732, -17891, -18047, -18198, -18342, -18476, -18596, -18701, -18792, -18870, -18936, -18993, -19042, -19086, -19127, -19169, -19213, -19263, -19318, -19379, -19445, -19516, -19594, -19679, -19773, -19878, -19995, -20124, -20267, -20429, -20609, -20809, -21028, -21267, -21524, -21798, -22088, -22395, -22717, -23052, -23401, -23763, -24134, -24514, -24897, -25279, -25653, -26012, -26351, -26663, -26941, -27177, -27361, -27485, -27542, -27526, -27433, -27258, -26998, -26646, -26200, -25655, -25010, -24262, -23407, -22444, -21365, -20168, -18849, -17405, -15833, -14134, -12308, -10353, -8272, -6068, -3747, -1319, 1201, 3792, 6432, 9095, 11755, 14383, 16945, 19408, 21741, 23915, 25900, 27673, 29209, 30486, 31487, 32203, 32629, 32767, 32616, 32179, 31463, 30473, 29219, 27710, 25958, 23979, 21792, 19421, 16892, 14232, 11472, 8642, 5772, 2893, 32, -2783, -5527, -8178, -10719, -13133, -15410, -17546, -19535, -21375, -23066, -24610, -26010, -27270, -28393, -29380, -30235, -30962, -31564, -32042, -32401, -32640, -32761, -32767, -32663, -32456, -32155, -31770, -31311, -30790, -30221, -29617, -28994, -28366, -27745, -27140, -26559, -26007, -25487, -25001, -24551, -24133, -23743, -23379, -23037, -22715, -22412, -22127, -21860, -21610, -21376, -21157, -20953, -20765, -20592, -20432, -20283, -20145, -20017, -19896, -19782, -19675, -19575, -19480, -19391, -19308, -19233, -19166, -19109, -19061, -19022, -18991, -18966, -18946, -18929, -18913, -18893, -18869, -18835, -18791, -18735, -18665, -18582, -18487, -18379, -18261, -18135, -18004, -17871, -17740, -17613, -17493, -17380, -17276, -17181, -17096, -17018, -16947, -16879, -16810, -16739, -16661, -16573, -16473, -16360, -16232, -16089, -15933, -15765, -15587, -15404, -15218, -15034, -14854, -14681, -14516, -14360, -14213, -14072, -13935, -13799, -13661, -13516, -13363, -13198, -13022, -12832, -12630, -12417, -12195, -11966, -11733, -11498, -11265, -11034, -10806, -10580, -10357, -10135, -9914, -9691, -9466, -9236, -9000, -8757, -8509, -8256, -7999, -7742, -7485, -7232, -6985, -6746, -6519, -6303, -6099, -5905, -5721, -5542, -5366, -5190, -5010, -4826, -4633, -4432, -4222, -4002, -3775, -3543, -3311, -3081, -2855, -2635, -2422, -2219, -2027, -1847, -1678, -1518, -1366, -1218, -1074, -934, -796, -657, -517, -374, -231, -87, 54, 192, 326, 453, 573, 684, 784, 873, 953, 1025, 1089, 1147, 1200, 1246, 1288, 1323, 1350, 1368, 1374, 1367, 1344, 1304, 1245, 1169, 1076, 968, 848, 717, 579, 438, 294, 152, 13, -122, -255, -385, -514, -641, -768, -897, -1028, -1164, -1306, -1456, -1614, -1781, -1959, -2146, -2344, -2551, -2767, -2991, -3222, -3458, -3695, -3932, -4166, -4397, -4624, -4847, -5066, -5281, -5493, -5703, -5915, -6131, -6353, -6581, -6816, -7057, -7302, -7551, -7804, -8057, -8308, -8553, -8789, -9017, -9236, -9449, -9657, -9861, -10061, -10260, -10460, -10665, -10878, -11099, -11327, -11561, -11797, -12036, -12276, -12517, -12755, -12989, -13214, -13430, -13638, -13837, -14030, -14217, -14397, -14571, -14741, -14907, -15073, -15241, -15411, -15584, -15759, -15935, -16115, -16298, -16484, -16671, -16857, -17037, -17210, -17374, -17528, -17671, -17800, -17914, -18014, -18100, -18174, -18240, -18299, -18356, -18413, -18472, -18536, -18607, -18686, -18773, -18866, -18966, -19068, -19171, -19272, -19367, -19455, -19534, -19603, -19663, -19713, -19756, -19791, -19821, -19849, -19876, -19903, -19932, -19962, -19992, -20021, -20048, -20071, -20091, -20105, -20113, -20113, -20108, -20098, -20085, -20074, -20065, -20061, -20065, -20077, -20100, -20134, -20178, -20233, -20295, -20361, -20429, -20496, -20558, -20613, -20659, -20694, -20717, -20728, -20726, -20712, -20688, -20655, -20615, -20570, -20522, -20471, -20417, -20363, -20309, -20257, -20207, -20161, -20118, -20079, -20043, -20012, -19987, -19968, -19955, -19947, -19941, -19938, -19935, -19933, -19930, -19925, -19917, -19904, -19889, -19874, -19861, -19852, -19848, -19851, -19862, -19880, -19908, -19942, -19978, -20012, -20041, -20061, -20070, -20066, -20049, -20020, -19980, -19933, -19885, -19841, -19805, -19780, -19767, -19766, -19777, -19797, -19821, -19847, -19867, -19878, -19878, -19865, -19839, -19802, -19757, -19708, -19659, -19614, -19578, -19554, -19543, -19545, -19560, -19584, -19614, -19646, -19676, -19699, -19711, -19711, -19696, -19666, -19622, -19567, -19504, -19437, -19368, -19302, -19242, -19191, -19149, -19119, -19098, -19086\n"
     ]
    }
   ],
   "source": [
    "# Convert the numpy array to a comma-separated string of values\n",
    "formatted_data = ', '.join(map(str, normalized_data.astype(int)))\n",
    "\n",
    "print(formatted_data)\n"
   ]
  },
  {
   "cell_type": "code",
   "execution_count": 245,
   "metadata": {},
   "outputs": [],
   "source": [
    "awg._send_command(f\"DATA:ARB:DAC test, {formatted_data}\")"
   ]
  },
  {
   "cell_type": "code",
   "execution_count": 190,
   "metadata": {},
   "outputs": [],
   "source": [
    "awg.output(1, True)"
   ]
  },
  {
   "cell_type": "code",
   "execution_count": 246,
   "metadata": {},
   "outputs": [],
   "source": [
    "awg._send_command(\"FUNCtion:ARBitrary \\\"testT\\\"\")"
   ]
  },
  {
   "cell_type": "code",
   "execution_count": 228,
   "metadata": {},
   "outputs": [],
   "source": [
    "awg._send_command(\"FUNCtion:ARBitrary:FILTer NORM\")"
   ]
  },
  {
   "cell_type": "code",
   "execution_count": 247,
   "metadata": {},
   "outputs": [],
   "source": [
    "awg._send_command(\"FUNCtion ARB\")\n",
    "awg._send_command(\"VOLTage +0.1\")\n",
    "awg._send_command(\"VOLTage:OFFSet 0\")\n",
    "awg._send_command(\"FUNC:ARB:FREQ 1000\")"
   ]
  },
  {
   "cell_type": "code",
   "execution_count": 5,
   "metadata": {},
   "outputs": [],
   "source": [
    "from pytestlab.instruments.Oscilloscope import Oscilloscope\n",
    "from pytestlab.profiles.keysight.smartbench import oscilloscope_profile\n",
    "visa_resource = \"TCPIP::169.254.70.148::inst0::INSTR\"\n",
    "osc = Oscilloscope(visa_resource=visa_resource, profile=oscilloscope_profile[\"DSOX1204G\"])\n",
    "\n",
    "osc.reset()\n"
   ]
  },
  {
   "cell_type": "code",
   "execution_count": 220,
   "metadata": {},
   "outputs": [],
   "source": [
    "osc.reset()"
   ]
  },
  {
   "cell_type": "code",
   "execution_count": 12,
   "metadata": {},
   "outputs": [],
   "source": [
    "osc._send_command(\"CHAN2:DISP ON\")\n",
    "osc._send_command(\"CHAN1:DISP OFF\")\n",
    "osc._send_command(\"TRIGger:SOURce CHAN2\")\n",
    "osc._send_command(\"TRIGger:LEVel 0.2, CHAN2\")\n",
    "osc._send_command(\"CHAN2:SCAL 0.5\")\n",
    "osc._send_command(\"TIM:SCAL 1e-4\")"
   ]
  },
  {
   "cell_type": "code",
   "execution_count": 249,
   "metadata": {},
   "outputs": [],
   "source": [
    "awg.output(2, True)\n",
    "osc._send_command(\"CHAN1:DISP ON\")"
   ]
  },
  {
   "cell_type": "code",
   "execution_count": 198,
   "metadata": {},
   "outputs": [],
   "source": [
    "# awg._send_command(f\"SOURCE1:DATA:VOL:CLEAR\")"
   ]
  },
  {
   "cell_type": "code",
   "execution_count": 272,
   "metadata": {},
   "outputs": [],
   "source": [
    "awg._send_command(f\"SOUR2:DATA:VOL:CLEAR\")"
   ]
  },
  {
   "cell_type": "code",
   "execution_count": 267,
   "metadata": {},
   "outputs": [],
   "source": [
    "awg._send_command(f\"SOURCE1:DATA:VOL:CLEAR\")\n",
    "awg._send_command(f\"DATA:ARB:DAC test, {formatted_data}\")\n",
    "awg._send_command(f\"SOURCE1:FUNCTION ARB\")\n",
    "awg._send_command(f\"FUNCTION:ARB:FILTER NORM\")\n",
    "awg._send_command(f\"SOURCE1:FUNCtion:ARBitrary TEST\")\n",
    "awg.output(1, True)\n",
    "# awg._send_command(\"FUNCtion ARB\")\n",
    "awg._send_command(\"VOLTage +0.1\")\n",
    "awg._send_command(\"VOLTage:OFFSet 0\")\n",
    "awg._send_command(\"FUNC:ARB:FREQ 1000\")\n",
    "# awg._send_command(f\"SOURCE1:FUNCTION:ARB:FILE \\\"TEST\\\"\")\n",
    "# binary_waveform = normalized_data.tobytes()\n",
    "# print(binary_waveform)\n",
    "# awg._send_command(f\"DATA:ARB:DAC myArb, {binary_waveform}\")\n",
    "# awg._send_command(f\"SOURCE2:FUNCtion:ARBitrary \\\"myArb\\\"\")"
   ]
  },
  {
   "cell_type": "code",
   "execution_count": 218,
   "metadata": {},
   "outputs": [],
   "source": [
    "awg._send_command(f\"SOURCE1:FUNCtion:ARBitrary \\\"myArb\\\"\")"
   ]
  },
  {
   "cell_type": "code",
   "execution_count": 25,
   "metadata": {},
   "outputs": [],
   "source": [
    "awg._send_command(f\"SOURCE2:DATA:VOL:CLEAR\")\n",
    "awg._send_command(f\"SOUR2:DATA:ARB:DAC myArb, {formatted_data}\")\n",
    "awg._send_command(\"SOUR2:FUNCtion:ARBitrary \\\"myArb\\\"\")\n",
    "awg._send_command(\"SOUR2:FUNCtion:ARBitrary:FILTer NORM\")\n",
    "awg._send_command(\"SOUR2:FUNCtion ARB\")\n",
    "awg._send_command(\"SOUR2:VOLTage +0.1\")\n",
    "awg._send_command(\"SOUR2:VOLTage:OFFSet 0\")\n",
    "awg._send_command(\"SOUR2:FUNC:ARB:FREQ 1000\")\n",
    "awg.output(2, True)"
   ]
  },
  {
   "cell_type": "code",
   "execution_count": 22,
   "metadata": {},
   "outputs": [],
   "source": [
    "awg.reset()"
   ]
  },
  {
   "cell_type": "code",
   "execution_count": 11,
   "metadata": {},
   "outputs": [],
   "source": [
    "awg.set_arbitrary_waveform(1, array_data)\n",
    "# awg._send_command(\"SOUR1:FUNCtion ARB\")\n",
    "# awg._send_command(\"SOUR2:VOLTage +0.1\")\n",
    "# awg._send_command(\"SOUR2:VOLTage:OFFSet 0\")\n",
    "# awg._send_command(\"SOUR2:FUNC:ARB:FREQ 1000\")\n",
    "awg.output(2, False)\n",
    "awg.output(1, True)"
   ]
  },
  {
   "cell_type": "code",
   "execution_count": 15,
   "metadata": {},
   "outputs": [],
   "source": [
    "awg._send_command(f\"SOUR2:DATA:VOL:CLEAR\")\n",
    "# awg._send_command(\"SOUR1:FUNCtion \\\"pytestlabArb\\\"\")"
   ]
  },
  {
   "cell_type": "code",
   "execution_count": 19,
   "metadata": {},
   "outputs": [],
   "source": [
    "awg._send_command(f\"SOUR2:DATA:ARB:DAC pytestlab1, {formatted_data}\")\n"
   ]
  },
  {
   "cell_type": "code",
   "execution_count": 16,
   "metadata": {},
   "outputs": [],
   "source": [
    "awg.close()"
   ]
  },
  {
   "cell_type": "code",
   "execution_count": 6,
   "metadata": {},
   "outputs": [
    {
     "data": {
      "text/plain": [
       "+1.4E+00\n",
       " V"
      ]
     },
     "execution_count": 6,
     "metadata": {},
     "output_type": "execute_result"
    }
   ],
   "source": [
    "osc.measure_voltage_peak_to_peak(2)"
   ]
  },
  {
   "cell_type": "code",
   "execution_count": 7,
   "metadata": {},
   "outputs": [
    {
     "ename": "AttributeError",
     "evalue": "'Oscilloscope' object has no attribute 'set_probe_scale'",
     "output_type": "error",
     "traceback": [
      "\u001b[1;31m---------------------------------------------------------------------------\u001b[0m",
      "\u001b[1;31mAttributeError\u001b[0m                            Traceback (most recent call last)",
      "\u001b[1;32mf:\\AKALI\\PyTestLab\\tests\\awg.ipynb Cell 27\u001b[0m line \u001b[0;36m1\n\u001b[1;32m----> <a href='vscode-notebook-cell:/f%3A/AKALI/PyTestLab/tests/awg.ipynb#X35sZmlsZQ%3D%3D?line=0'>1</a>\u001b[0m osc\u001b[39m.\u001b[39;49mset_probe_scale(\u001b[39m2\u001b[39m, \u001b[39m1\u001b[39m)\n",
      "\u001b[1;31mAttributeError\u001b[0m: 'Oscilloscope' object has no attribute 'set_probe_scale'"
     ]
    }
   ],
   "source": [
    "osc.set_probe_attenuation(2, 1)"
   ]
  },
  {
   "cell_type": "code",
   "execution_count": 15,
   "metadata": {},
   "outputs": [],
   "source": [
    "osc.close()"
   ]
  },
  {
   "cell_type": "markdown",
   "metadata": {},
   "source": []
  },
  {
   "cell_type": "code",
   "execution_count": 1,
   "metadata": {},
   "outputs": [
    {
     "name": "stdout",
     "output_type": "stream",
     "text": [
      "count one\n",
      "count two\n",
      "count three\n",
      "count four\n",
      "count five\n",
      "count six\n",
      "Script executed in 1.00 seconds.\n"
     ]
    }
   ],
   "source": [
    "import time,asyncio\n",
    "\n",
    "async def count():\n",
    "    print(\"count one\")\n",
    "    await asyncio.sleep(1)\n",
    "    print(\"count four\")\n",
    "\n",
    "async def count_further():\n",
    "    print(\"count two\")\n",
    "    await asyncio.sleep(1)\n",
    "    print(\"count five\")\n",
    "\n",
    "async def count_even_further():\n",
    "    print(\"count three\")\n",
    "    await asyncio.sleep(1)\n",
    "    print(\"count six\")\n",
    "\n",
    "async def main():\n",
    "    await asyncio.gather(count(), count_further(), count_even_further())\n",
    "\n",
    "s = time.perf_counter()\n",
    "await main()\n",
    "elapsed = time.perf_counter() - s\n",
    "print(f\"Script executed in {elapsed:0.2f} seconds.\")"
   ]
  },
  {
   "cell_type": "code",
   "execution_count": 3,
   "metadata": {},
   "outputs": [
    {
     "name": "stdout",
     "output_type": "stream",
     "text": [
      "{'vendor_id': 10893, 'product_id': 918, 'channels': {'1': {'description': 'Analog Channel 1'}, '2': {'description': 'Analog Channel 2'}}}\n",
      "10893\n"
     ]
    }
   ],
   "source": [
    "import json\n",
    "import re\n",
    "\n",
    "def preprocess_pyson(pyson_str):\n",
    "    \"\"\"\n",
    "    Preprocess the .pyson string to make it compatible with json.loads.\n",
    "    Convert hexadecimal strings and handle numeric keys.\n",
    "    \"\"\"\n",
    "    # Convert hexadecimal strings\n",
    "    pyson_str = re.sub(r'0x[0-9a-fA-F]+', lambda m: str(int(m.group(), 16)), pyson_str)\n",
    "\n",
    "    # Handle numeric keys by converting them to strings\n",
    "    pyson_str = re.sub(r'(?<={|,)\\s*(\\d+)\\s*:', r'\"\\1\":', pyson_str)\n",
    "\n",
    "    return pyson_str\n",
    "\n",
    "def loads(pyson_str):\n",
    "    \"\"\"\n",
    "    Parse a .pyson string and convert it into a Python object.\n",
    "    \"\"\"\n",
    "    try:\n",
    "        # Preprocess the .pyson string\n",
    "        processed_str = preprocess_pyson(pyson_str)\n",
    "\n",
    "        # Use json.loads to parse the processed string\n",
    "        return json.loads(processed_str)\n",
    "    except json.JSONDecodeError as e:\n",
    "        raise ValueError(f\"Invalid PYSON format: {e}\")\n",
    "\n",
    "# Example usage\n",
    "pyson_data = \"\"\"\n",
    "{\n",
    "    \"vendor_id\": 0x2A8D,\n",
    "    \"product_id\": 0x0396,\n",
    "    \"channels\": {\n",
    "        1: {\"description\": \"Analog Channel 1\"},\n",
    "        2: {\"description\": \"Analog Channel 2\"}\n",
    "    }\n",
    "}\n",
    "\"\"\"\n",
    "loaded_data = loads(pyson_data)\n",
    "print(loaded_data)"
   ]
  }
 ],
 "metadata": {
  "kernelspec": {
   "display_name": "Python 3",
   "language": "python",
   "name": "python3"
  },
  "language_info": {
   "codemirror_mode": {
    "name": "ipython",
    "version": 3
   },
   "file_extension": ".py",
   "mimetype": "text/x-python",
   "name": "python",
   "nbconvert_exporter": "python",
   "pygments_lexer": "ipython3",
   "version": "3.11.4"
  },
  "orig_nbformat": 4
 },
 "nbformat": 4,
 "nbformat_minor": 2
}
