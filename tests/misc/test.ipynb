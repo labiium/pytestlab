{
 "cells": [
  {
   "cell_type": "code",
   "execution_count": 2,
   "metadata": {},
   "outputs": [
    {
     "name": "stdout",
     "output_type": "stream",
     "text": [
      "True\n",
      "serialized_object\n",
      "b\"\\xfd7zXZ\\x00\\x00\\x04\\xe6\\xd6\\xb4F\\x02\\x00!\\x01\\x16\\x00\\x00\\x00t/\\xe5\\xa3\\xe0\\x03\\x1a\\x00\\xec]\\x00@\\x01\\x0en>\\xcc;\\x1a\\xd4\\xe5\\xee{\\xa8ar\\xb9\\xfcC\\xe3L1{\\x15\\xaa\\xb8\\xe4>\\xeb\\xbe~\\xdfm5z0\\xadxR\\xb9\\xb9\\xbc\\x82H;\\xfc\\xd5\\x17$\\xff\\x9b@/\\xc6\\xc8d\\xa9\\x9ew\\xb5}\\xc8\\x95\\xfc\\xc9\\xd9@\\x92\\x85D\\x12\\x1cN\\xb9\\xc2\\xe0\\x0f\\xdb\\xff\\xda\\x7f':\\xa0\\xbf\\xa7\\x0cM\\x8c\\x1bT\\xbe6\\xcf\\x92\\n\\x8c\\x0eq\\xb5\\xc3\\x8d\\x07\\xd9\\xb0OX\\xbf-\\xfc/\\x1e\\x0c\\xfc`$\\xe2\\xd0\\x81\\x0fD\\x96(\\xabk\\xb8.\\xf1o\\x85\\xb1\\xe2\\xe1\\xa6\\x0f\\x8f\\xfa\\xd8\\x1e\\xfa\\xa9\\x95n\\xefq\\xb2z\\xd0\\x97\\x88\\x00\\\\\\xdc\\x95j\\r\\x86\\xc5\\xc2\\xf7.\\xfd\\x1b\\xed\\xf6\\x0c\\xda\\x9e\\xd5\\x1fP\\xfdv<\\xd7{.CI\\xf3\\xda\\x0e\\xc7EB\\xff\\x08\\xb1\\xac\\x97\\xf5\\xd0\\xb9e\\x0c\\xf5\\x12<nK\\x0b\\xec\\xb7\\xa6r\\xa0\\xd5\\xec\\x15P6\\xf67$\\xcep\\x88_\\xebd\\xb1\\xc7\\x0e\\xe72;\\x1b\\xe2%5\\xf6\\xabZ\\xf6\\xa9`\\x11\\x00\\x13\\xd8\\x08\\xc8\\xc7\\x01\\x13/\\x00\\x01\\x88\\x02\\x9b\\x06\\x00\\x00\\x1f\\x0b\\xba%\\xb1\\xc4g\\xfb\\x02\\x00\\x00\\x00\\x00\\x04YZ\"\n",
      "deserialized_object\n",
      "b\"\\xfd7zXZ\\x00\\x00\\x04\\xe6\\xd6\\xb4F\\x02\\x00!\\x01\\x16\\x00\\x00\\x00t/\\xe5\\xa3\\xe0\\x03\\x1a\\x00\\xec]\\x00@\\x01\\x0en>\\xcc;\\x1a\\xd4\\xe5\\xee{\\xa8ar\\xb9\\xfcC\\xe3L1{\\x15\\xaa\\xb8\\xe4>\\xeb\\xbe~\\xdfm5z0\\xadxR\\xb9\\xb9\\xbc\\x82H;\\xfc\\xd5\\x17$\\xff\\x9b@/\\xc6\\xc8d\\xa9\\x9ew\\xb5}\\xc8\\x95\\xfc\\xc9\\xd9@\\x92\\x85D\\x12\\x1cN\\xb9\\xc2\\xe0\\x0f\\xdb\\xff\\xda\\x7f':\\xa0\\xbf\\xa7\\x0cM\\x8c\\x1bT\\xbe6\\xcf\\x92\\n\\x8c\\x0eq\\xb5\\xc3\\x8d\\x07\\xd9\\xb0OX\\xbf-\\xfc/\\x1e\\x0c\\xfc`$\\xe2\\xd0\\x81\\x0fD\\x96(\\xabk\\xb8.\\xf1o\\x85\\xb1\\xe2\\xe1\\xa6\\x0f\\x8f\\xfa\\xd8\\x1e\\xfa\\xa9\\x95n\\xefq\\xb2z\\xd0\\x97\\x88\\x00\\\\\\xdc\\x95j\\r\\x86\\xc5\\xc2\\xf7.\\xfd\\x1b\\xed\\xf6\\x0c\\xda\\x9e\\xd5\\x1fP\\xfdv<\\xd7{.CI\\xf3\\xda\\x0e\\xc7EB\\xff\\x08\\xb1\\xac\\x97\\xf5\\xd0\\xb9e\\x0c\\xf5\\x12<nK\\x0b\\xec\\xb7\\xa6r\\xa0\\xd5\\xec\\x15P6\\xf67$\\xcep\\x88_\\xebd\\xb1\\xc7\\x0e\\xe72;\\x1b\\xe2%5\\xf6\\xabZ\\xf6\\xa9`\\x11\\x00\\x13\\xd8\\x08\\xc8\\xc7\\x01\\x13/\\x00\\x01\\x88\\x02\\x9b\\x06\\x00\\x00\\x1f\\x0b\\xba%\\xb1\\xc4g\\xfb\\x02\\x00\\x00\\x00\\x00\\x04YZ\"\n",
      "shape: (3, 2)\n",
      "┌─────┬─────┐\n",
      "│ a   ┆ b   │\n",
      "│ --- ┆ --- │\n",
      "│ i64 ┆ f64 │\n",
      "╞═════╪═════╡\n",
      "│ 1   ┆ 4.5 │\n",
      "│ 2   ┆ 5.5 │\n",
      "│ 3   ┆ 6.5 │\n",
      "└─────┴─────┘\n"
     ]
    }
   ],
   "source": [
    "import pickle\n",
    "import polars as pl\n",
    "import sqlite3\n",
    "import lzma\n",
    "\n",
    "# The DataFrame you are trying to store\n",
    "df = pl.DataFrame({\n",
    "  \"a\": [1,2,3],\n",
    "  \"b\": [4.5, 5.5, 6.5]\n",
    "})\n",
    "\n",
    "\n",
    "serialized_object = pickle.dumps(df)\n",
    "\n",
    "# Optional to reduce size\n",
    "serialized_object = lzma.compress(serialized_object)\n",
    "# Connect to your database\n",
    "conn = sqlite3.connect(\"your_database.db\")\n",
    "\n",
    "cursor = conn.cursor()\n",
    "\n",
    "create_table_query = \"\"\"\n",
    "CREATE TABLE IF NOT EXISTS my_table (\n",
    "  id INTEGER PRIMARY KEY,\n",
    "  data BLOB\n",
    ")\n",
    "\"\"\"\n",
    "\n",
    "cursor.execute(create_table_query)\n",
    "\n",
    "insert_query = \"INSERT INTO my_table (data) VALUES (?)\"\n",
    "cursor.execute(insert_query, (sqlite3.Binary(serialized_object),))\n",
    "\n",
    "conn.commit()\n",
    "\n",
    "\n",
    "\n",
    "### How to get your dataframe again\n",
    "select_query = \"SELECT data FROM my_table WHERE id = ?\"\n",
    "cursor.execute(select_query, (1,))\n",
    "fetched_row = cursor.fetchone()\n",
    "if fetched_row:\n",
    "  deserialized_object = fetched_row[0]\n",
    "\n",
    "  # Optional to reduce size\n",
    "  test = lzma.decompress(serialized_object)\n",
    "  print(serialized_object == deserialized_object)\n",
    "  print(\"serialized_object\")\n",
    "  print(serialized_object)\n",
    "  print(\"deserialized_object\")\n",
    "  print(deserialized_object)\n",
    "  deserialized_object = lzma.decompress(deserialized_object)\n",
    "  my_object = pickle.loads(deserialized_object)\n",
    "  print(my_object)\n",
    "conn.close()"
   ]
  },
  {
   "cell_type": "code",
   "execution_count": 27,
   "metadata": {},
   "outputs": [
    {
     "name": "stdout",
     "output_type": "stream",
     "text": [
      "Requirement already satisfied: connectorx in c:\\users\\emman\\.conda\\envs\\pytestlab\\lib\\site-packages (0.3.2)\n",
      "Requirement already satisfied: SQLAlchemy in c:\\users\\emman\\.conda\\envs\\pytestlab\\lib\\site-packages (2.0.29)\n",
      "Requirement already satisfied: pandas in c:\\users\\emman\\.conda\\envs\\pytestlab\\lib\\site-packages (2.2.1)\n",
      "Requirement already satisfied: typing-extensions>=4.6.0 in c:\\users\\emman\\.conda\\envs\\pytestlab\\lib\\site-packages (from SQLAlchemy) (4.10.0)\n",
      "Requirement already satisfied: greenlet!=0.4.17 in c:\\users\\emman\\.conda\\envs\\pytestlab\\lib\\site-packages (from SQLAlchemy) (3.0.3)\n",
      "Requirement already satisfied: numpy<2,>=1.23.2 in c:\\users\\emman\\.conda\\envs\\pytestlab\\lib\\site-packages (from pandas) (1.26.4)\n",
      "Requirement already satisfied: python-dateutil>=2.8.2 in c:\\users\\emman\\.conda\\envs\\pytestlab\\lib\\site-packages (from pandas) (2.8.2)\n",
      "Requirement already satisfied: pytz>=2020.1 in c:\\users\\emman\\.conda\\envs\\pytestlab\\lib\\site-packages (from pandas) (2024.1)\n",
      "Requirement already satisfied: tzdata>=2022.7 in c:\\users\\emman\\.conda\\envs\\pytestlab\\lib\\site-packages (from pandas) (2024.1)\n",
      "Requirement already satisfied: six>=1.5 in c:\\users\\emman\\.conda\\envs\\pytestlab\\lib\\site-packages (from python-dateutil>=2.8.2->pandas) (1.16.0)\n"
     ]
    }
   ],
   "source": [
    "!pip install connectorx SQLAlchemy pandas"
   ]
  },
  {
   "cell_type": "code",
   "execution_count": 28,
   "metadata": {},
   "outputs": [
    {
     "ename": "ModuleNotFoundError",
     "evalue": "writing with engine 'sqlalchemy' currently requires pandas.\n\nInstall with: pip install pandas",
     "output_type": "error",
     "traceback": [
      "\u001b[1;31m---------------------------------------------------------------------------\u001b[0m",
      "\u001b[1;31mModuleNotFoundError\u001b[0m                       Traceback (most recent call last)",
      "\u001b[1;32m~\\AppData\\Local\\Temp\\ipykernel_19420\\2911478529.py\u001b[0m in \u001b[0;36m?\u001b[1;34m()\u001b[0m\n\u001b[0;32m      1\u001b[0m \u001b[0muri\u001b[0m \u001b[1;33m=\u001b[0m \u001b[1;34m\"sqlite:///database.db\"\u001b[0m\u001b[1;33m\u001b[0m\u001b[1;33m\u001b[0m\u001b[0m\n\u001b[0;32m      2\u001b[0m \u001b[0mdf\u001b[0m \u001b[1;33m=\u001b[0m \u001b[0mpl\u001b[0m\u001b[1;33m.\u001b[0m\u001b[0mDataFrame\u001b[0m\u001b[1;33m(\u001b[0m\u001b[1;33m{\u001b[0m\u001b[1;34m\"foo\"\u001b[0m\u001b[1;33m:\u001b[0m \u001b[1;33m[\u001b[0m\u001b[1;36m1\u001b[0m\u001b[1;33m,\u001b[0m \u001b[1;36m2\u001b[0m\u001b[1;33m,\u001b[0m \u001b[1;36m3\u001b[0m\u001b[1;33m]\u001b[0m\u001b[1;33m}\u001b[0m\u001b[1;33m)\u001b[0m\u001b[1;33m\u001b[0m\u001b[1;33m\u001b[0m\u001b[0m\n\u001b[0;32m      3\u001b[0m \u001b[1;33m\u001b[0m\u001b[0m\n\u001b[1;32m----> 4\u001b[1;33m \u001b[0mdf\u001b[0m\u001b[1;33m.\u001b[0m\u001b[0mwrite_database\u001b[0m\u001b[1;33m(\u001b[0m\u001b[0mtable_name\u001b[0m\u001b[1;33m=\u001b[0m\u001b[1;34m\"records\"\u001b[0m\u001b[1;33m,\u001b[0m \u001b[0mconnection\u001b[0m\u001b[1;33m=\u001b[0m\u001b[0muri\u001b[0m\u001b[1;33m,\u001b[0m \u001b[0mengine\u001b[0m\u001b[1;33m=\u001b[0m\u001b[1;34m\"sqlalchemy\"\u001b[0m\u001b[1;33m)\u001b[0m\u001b[1;33m\u001b[0m\u001b[1;33m\u001b[0m\u001b[0m\n\u001b[0m",
      "\u001b[1;32mc:\\Users\\Emman\\.conda\\envs\\pytestlab\\Lib\\site-packages\\polars\\_utils\\deprecation.py\u001b[0m in \u001b[0;36m?\u001b[1;34m(*args, **kwargs)\u001b[0m\n\u001b[0;32m    130\u001b[0m         \u001b[1;32mdef\u001b[0m \u001b[0mwrapper\u001b[0m\u001b[1;33m(\u001b[0m\u001b[1;33m*\u001b[0m\u001b[0margs\u001b[0m\u001b[1;33m:\u001b[0m \u001b[0mP\u001b[0m\u001b[1;33m.\u001b[0m\u001b[0margs\u001b[0m\u001b[1;33m,\u001b[0m \u001b[1;33m**\u001b[0m\u001b[0mkwargs\u001b[0m\u001b[1;33m:\u001b[0m \u001b[0mP\u001b[0m\u001b[1;33m.\u001b[0m\u001b[0mkwargs\u001b[0m\u001b[1;33m)\u001b[0m \u001b[1;33m->\u001b[0m \u001b[0mT\u001b[0m\u001b[1;33m:\u001b[0m\u001b[1;33m\u001b[0m\u001b[1;33m\u001b[0m\u001b[0m\n\u001b[0;32m    131\u001b[0m             _rename_keyword_argument(\n\u001b[0;32m    132\u001b[0m                 \u001b[0mold_name\u001b[0m\u001b[1;33m,\u001b[0m \u001b[0mnew_name\u001b[0m\u001b[1;33m,\u001b[0m \u001b[0mkwargs\u001b[0m\u001b[1;33m,\u001b[0m \u001b[0mfunction\u001b[0m\u001b[1;33m.\u001b[0m\u001b[0m__name__\u001b[0m\u001b[1;33m,\u001b[0m \u001b[0mversion\u001b[0m\u001b[1;33m\u001b[0m\u001b[1;33m\u001b[0m\u001b[0m\n\u001b[0;32m    133\u001b[0m             )\n\u001b[1;32m--> 134\u001b[1;33m             \u001b[1;32mreturn\u001b[0m \u001b[0mfunction\u001b[0m\u001b[1;33m(\u001b[0m\u001b[1;33m*\u001b[0m\u001b[0margs\u001b[0m\u001b[1;33m,\u001b[0m \u001b[1;33m**\u001b[0m\u001b[0mkwargs\u001b[0m\u001b[1;33m)\u001b[0m\u001b[1;33m\u001b[0m\u001b[1;33m\u001b[0m\u001b[0m\n\u001b[0m",
      "\u001b[1;32mc:\\Users\\Emman\\.conda\\envs\\pytestlab\\Lib\\site-packages\\polars\\dataframe\\frame.py\u001b[0m in \u001b[0;36m?\u001b[1;34m(self, table_name, connection, if_table_exists, engine)\u001b[0m\n\u001b[0;32m   3632\u001b[0m \u001b[1;33m\u001b[0m\u001b[0m\n\u001b[0;32m   3633\u001b[0m         \u001b[1;32melif\u001b[0m \u001b[0mengine\u001b[0m \u001b[1;33m==\u001b[0m \u001b[1;34m\"sqlalchemy\"\u001b[0m\u001b[1;33m:\u001b[0m\u001b[1;33m\u001b[0m\u001b[1;33m\u001b[0m\u001b[0m\n\u001b[0;32m   3634\u001b[0m             \u001b[1;32mif\u001b[0m \u001b[1;32mnot\u001b[0m \u001b[0m_PANDAS_AVAILABLE\u001b[0m\u001b[1;33m:\u001b[0m\u001b[1;33m\u001b[0m\u001b[1;33m\u001b[0m\u001b[0m\n\u001b[0;32m   3635\u001b[0m                 \u001b[0mmsg\u001b[0m \u001b[1;33m=\u001b[0m \u001b[1;34m\"writing with engine 'sqlalchemy' currently requires pandas.\\n\\nInstall with: pip install pandas\"\u001b[0m\u001b[1;33m\u001b[0m\u001b[1;33m\u001b[0m\u001b[0m\n\u001b[1;32m-> 3636\u001b[1;33m                 \u001b[1;32mraise\u001b[0m \u001b[0mModuleNotFoundError\u001b[0m\u001b[1;33m(\u001b[0m\u001b[0mmsg\u001b[0m\u001b[1;33m)\u001b[0m\u001b[1;33m\u001b[0m\u001b[1;33m\u001b[0m\u001b[0m\n\u001b[0m\u001b[0;32m   3637\u001b[0m             \u001b[1;32melif\u001b[0m \u001b[0mparse_version\u001b[0m\u001b[1;33m(\u001b[0m\u001b[0mpd\u001b[0m\u001b[1;33m.\u001b[0m\u001b[0m__version__\u001b[0m\u001b[1;33m)\u001b[0m \u001b[1;33m<\u001b[0m \u001b[1;33m(\u001b[0m\u001b[1;36m1\u001b[0m\u001b[1;33m,\u001b[0m \u001b[1;36m5\u001b[0m\u001b[1;33m)\u001b[0m\u001b[1;33m:\u001b[0m\u001b[1;33m\u001b[0m\u001b[1;33m\u001b[0m\u001b[0m\n\u001b[0;32m   3638\u001b[0m                 \u001b[0mmsg\u001b[0m \u001b[1;33m=\u001b[0m \u001b[1;34mf\"writing with engine 'sqlalchemy' requires pandas 1.5.x or higher, found {pd.__version__!r}\"\u001b[0m\u001b[1;33m\u001b[0m\u001b[1;33m\u001b[0m\u001b[0m\n\u001b[0;32m   3639\u001b[0m                 \u001b[1;32mraise\u001b[0m \u001b[0mModuleUpgradeRequired\u001b[0m\u001b[1;33m(\u001b[0m\u001b[0mmsg\u001b[0m\u001b[1;33m)\u001b[0m\u001b[1;33m\u001b[0m\u001b[1;33m\u001b[0m\u001b[0m\n",
      "\u001b[1;31mModuleNotFoundError\u001b[0m: writing with engine 'sqlalchemy' currently requires pandas.\n\nInstall with: pip install pandas"
     ]
    }
   ],
   "source": [
    "uri = \"sqlite:////database.db\"\n",
    "df = pl.DataFrame({\"foo\": [1, 2, 3]})\n",
    "\n",
    "df.write_database(table_name=\"records\", connection=uri, engine=\"sqlalchemy\")"
   ]
  },
  {
   "cell_type": "code",
   "execution_count": null,
   "metadata": {},
   "outputs": [],
   "source": []
  }
 ],
 "metadata": {
  "kernelspec": {
   "display_name": "pytestlab",
   "language": "python",
   "name": "python3"
  },
  "language_info": {
   "codemirror_mode": {
    "name": "ipython",
    "version": 3
   },
   "file_extension": ".py",
   "mimetype": "text/x-python",
   "name": "python",
   "nbconvert_exporter": "python",
   "pygments_lexer": "ipython3",
   "version": "3.11.7"
  }
 },
 "nbformat": 4,
 "nbformat_minor": 2
}
