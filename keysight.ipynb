{
 "cells": [
  {
   "cell_type": "code",
   "execution_count": 1,
   "metadata": {},
   "outputs": [],
   "source": [
    "import pyvisa\n",
    "\n",
    "rm = pyvisa.ResourceManager()\n",
    "inst = rm.open_resource(\"USB0::0x2A8D::0x0396::CN63177200::0::INSTR\") \n",
    "\n",
    "# Reset instrument \n",
    "inst.write(\"*RST\")\n",
    "\n",
    "inst.close()"
   ]
  },
  {
   "cell_type": "code",
   "execution_count": 2,
   "metadata": {},
   "outputs": [
    {
     "ename": "TypeError",
     "evalue": "Oscilloscope.__init__() missing 1 required positional argument: 'profile'",
     "output_type": "error",
     "traceback": [
      "\u001b[1;31m---------------------------------------------------------------------------\u001b[0m",
      "\u001b[1;31mTypeError\u001b[0m                                 Traceback (most recent call last)",
      "\u001b[1;32mc:\\Users\\s1808027\\Documents\\akali\\main\\PyTestLab\\keysight.ipynb Cell 2\u001b[0m line \u001b[0;36m3\n\u001b[0;32m      <a href='vscode-notebook-cell:/c%3A/Users/s1808027/Documents/akali/main/PyTestLab/keysight.ipynb#W1sZmlsZQ%3D%3D?line=0'>1</a>\u001b[0m \u001b[39mfrom\u001b[39;00m \u001b[39mpytestlab\u001b[39;00m\u001b[39m.\u001b[39;00m\u001b[39minstruments\u001b[39;00m\u001b[39m.\u001b[39;00m\u001b[39mOscilloscope\u001b[39;00m \u001b[39mimport\u001b[39;00m Oscilloscope\n\u001b[1;32m----> <a href='vscode-notebook-cell:/c%3A/Users/s1808027/Documents/akali/main/PyTestLab/keysight.ipynb#W1sZmlsZQ%3D%3D?line=2'>3</a>\u001b[0m osc \u001b[39m=\u001b[39m Oscilloscope(\u001b[39m\"\u001b[39;49m\u001b[39mUSB0::0x2A8D::0x0396::CN63177200::0::INSTR\u001b[39;49m\u001b[39m\"\u001b[39;49m) \n\u001b[0;32m      <a href='vscode-notebook-cell:/c%3A/Users/s1808027/Documents/akali/main/PyTestLab/keysight.ipynb#W1sZmlsZQ%3D%3D?line=4'>5</a>\u001b[0m \u001b[39m# Set timebase to 10us per division\u001b[39;00m\n\u001b[0;32m      <a href='vscode-notebook-cell:/c%3A/Users/s1808027/Documents/akali/main/PyTestLab/keysight.ipynb#W1sZmlsZQ%3D%3D?line=5'>6</a>\u001b[0m osc\u001b[39m.\u001b[39mset_timebase_scale(\u001b[39m10e-6\u001b[39m)\n",
      "\u001b[1;31mTypeError\u001b[0m: Oscilloscope.__init__() missing 1 required positional argument: 'profile'"
     ]
    }
   ],
   "source": [
    "from pytestlab.instruments.Oscilloscope import Oscilloscope\n",
    "\n",
    "osc = Oscilloscope(\"USB0::0x2A8D::0x0396::CN63177200::0::INSTR\") \n",
    "\n",
    "# Set timebase to 10us per division\n",
    "osc.set_timebase_scale(10e-6)\n",
    "\n",
    "# Get current timebase setting\n",
    "timebase = osc.get_timebase_scale()\n",
    "\n",
    "print(timebase)\n",
    "\n",
    "osc.close()"
   ]
  },
  {
   "cell_type": "code",
   "execution_count": 2,
   "metadata": {},
   "outputs": [],
   "source": [
    "from pytestlab.instruments.Oscilloscope import Oscilloscope\n",
    "from pytestlab.profiles.keysight.smartbench import oscilloscope_profile\n",
    "\n",
    "# Get profile for my oscilloscope model \n",
    "profile = oscilloscope_profile[\"DSOX1204G\"] \n",
    "\n",
    "osc = Oscilloscope(\"USB0::0x2A8D::0x0396::CN63177200::0::INSTR\", profile)"
   ]
  },
  {
   "cell_type": "code",
   "execution_count": 3,
   "metadata": {},
   "outputs": [],
   "source": [
    "osc.reset() "
   ]
  },
  {
   "cell_type": "code",
   "execution_count": 11,
   "metadata": {},
   "outputs": [],
   "source": [
    "# Set timebase to 10us per division\n",
    "osc.set_timebase_scale(10e-3) "
   ]
  },
  {
   "cell_type": "code",
   "execution_count": 5,
   "metadata": {},
   "outputs": [],
   "source": [
    "osc.set_wave_gen(\"ON\")"
   ]
  },
  {
   "cell_type": "code",
   "execution_count": 8,
   "metadata": {},
   "outputs": [],
   "source": [
    "osc.set_wave_gen_func(\"SINusoid\")"
   ]
  },
  {
   "cell_type": "code",
   "execution_count": 9,
   "metadata": {},
   "outputs": [],
   "source": [
    "osc.set_wave_gen_freq(1000)"
   ]
  },
  {
   "cell_type": "code",
   "execution_count": 10,
   "metadata": {},
   "outputs": [],
   "source": [
    "osc.set_wave_gen_amp(1)"
   ]
  },
  {
   "cell_type": "code",
   "execution_count": 12,
   "metadata": {},
   "outputs": [],
   "source": [
    "osc.set_timebase_scale(1e-3) # 1 ms/div\n",
    "osc.set_acquisition_time(10e-3) # 10 ms total acquisition time"
   ]
  },
  {
   "cell_type": "code",
   "execution_count": 16,
   "metadata": {},
   "outputs": [
    {
     "ename": "KeyboardInterrupt",
     "evalue": "",
     "output_type": "error",
     "traceback": [
      "\u001b[1;31m---------------------------------------------------------------------------\u001b[0m",
      "\u001b[1;31mKeyboardInterrupt\u001b[0m                         Traceback (most recent call last)",
      "\u001b[1;32mc:\\Users\\s1808027\\Documents\\akali\\main\\PyTestLab\\keysight.ipynb Cell 11\u001b[0m line \u001b[0;36m1\n\u001b[0;32m      <a href='vscode-notebook-cell:/c%3A/Users/s1808027/Documents/akali/main/PyTestLab/keysight.ipynb#X13sZmlsZQ%3D%3D?line=7'>8</a>\u001b[0m osc\u001b[39m.\u001b[39mset_wave_gen_amp(\u001b[39m5\u001b[39m)\n\u001b[0;32m     <a href='vscode-notebook-cell:/c%3A/Users/s1808027/Documents/akali/main/PyTestLab/keysight.ipynb#X13sZmlsZQ%3D%3D?line=9'>10</a>\u001b[0m \u001b[39m# Sleep for 1 second\u001b[39;00m\n\u001b[1;32m---> <a href='vscode-notebook-cell:/c%3A/Users/s1808027/Documents/akali/main/PyTestLab/keysight.ipynb#X13sZmlsZQ%3D%3D?line=10'>11</a>\u001b[0m time\u001b[39m.\u001b[39msleep(\u001b[39m1\u001b[39m) \n\u001b[0;32m     <a href='vscode-notebook-cell:/c%3A/Users/s1808027/Documents/akali/main/PyTestLab/keysight.ipynb#X13sZmlsZQ%3D%3D?line=12'>13</a>\u001b[0m \u001b[39m# Set amplitude to 0V  \u001b[39;00m\n\u001b[0;32m     <a href='vscode-notebook-cell:/c%3A/Users/s1808027/Documents/akali/main/PyTestLab/keysight.ipynb#X13sZmlsZQ%3D%3D?line=13'>14</a>\u001b[0m osc\u001b[39m.\u001b[39mset_wave_gen_amp(\u001b[39m0.02\u001b[39m)\n",
      "\u001b[1;31mKeyboardInterrupt\u001b[0m: "
     ]
    }
   ],
   "source": [
    "import time\n",
    "# Set frequency\n",
    "osc.set_wave_gen_freq(1)\n",
    "\n",
    "while True:\n",
    "\n",
    "  # Set amplitude to 5V\n",
    "  osc.set_wave_gen_amp(5)\n",
    "  \n",
    "  # Sleep for 1 second\n",
    "  time.sleep(1) \n",
    "  \n",
    "  # Set amplitude to 0V  \n",
    "  osc.set_wave_gen_amp(0.02)\n",
    "\n",
    "  # Sleep for 1 second\n",
    "  time.sleep(1)"
   ]
  },
  {
   "cell_type": "code",
   "execution_count": null,
   "metadata": {},
   "outputs": [],
   "source": []
  }
 ],
 "metadata": {
  "kernelspec": {
   "display_name": "pytestlab",
   "language": "python",
   "name": "python3"
  },
  "language_info": {
   "codemirror_mode": {
    "name": "ipython",
    "version": 3
   },
   "file_extension": ".py",
   "mimetype": "text/x-python",
   "name": "python",
   "nbconvert_exporter": "python",
   "pygments_lexer": "ipython3",
   "version": "3.11.4"
  }
 },
 "nbformat": 4,
 "nbformat_minor": 2
}
