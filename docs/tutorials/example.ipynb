{
 "cells": [
  {
   "cell_type": "code",
   "execution_count": null,
   "id": "f79eaab8-a950-4d3a-b9e5-d8858f25ad64",
   "metadata": {},
   "outputs": [],
   "source": [
    "from pytestlab.instruments import AutoInstrument\n",
    "\n",
    "osc = AutoInstrument.from_config(\"keysight/DSOX1204G\")\n",
    "awg = AutoInstrument.from_config(\"keysight/EDU33212A\")"
   ]
  },
  {
   "cell_type": "code",
   "execution_count": null,
   "id": "bca4047f-3d85-421e-977a-559a6ddd9e7f",
   "metadata": {},
   "outputs": [],
   "source": [
    "osc.id()"
   ]
  },
  {
   "cell_type": "code",
   "execution_count": null,
   "id": "1208a1c1-03c6-4d68-8c4b-2e1eafa621f4",
   "metadata": {},
   "outputs": [],
   "source": [
    "awg.id()"
   ]
  },
  {
   "cell_type": "code",
   "execution_count": null,
   "id": "f7d448a7-7f86-4cc7-b860-48eee051bd79",
   "metadata": {},
   "outputs": [],
   "source": [
    "awg.reset()\n",
    "awg.output(1, True)\n",
    "awg.set_waveform(1, \"SIN\")"
   ]
  },
  {
   "cell_type": "code",
   "execution_count": null,
   "id": "ed2b4b13-fd7d-4b98-8721-7732867085e7",
   "metadata": {},
   "outputs": [],
   "source": [
    "awg.set_frequency(1, 25e3)"
   ]
  },
  {
   "cell_type": "code",
   "execution_count": null,
   "id": "c134f446-a3e7-42db-861f-4dc5f592e6d4",
   "metadata": {},
   "outputs": [],
   "source": [
    "awg.set_voltage(1, 1.8)"
   ]
  },
  {
   "cell_type": "code",
   "execution_count": null,
   "id": "273f49e9-a028-4cc4-857e-096e05021cc3",
   "metadata": {},
   "outputs": [],
   "source": [
    "osc.display_channel(1, False)"
   ]
  },
  {
   "cell_type": "code",
   "execution_count": null,
   "id": "35ee777d-1fc4-41b7-bea9-bed69be15084",
   "metadata": {},
   "outputs": [],
   "source": [
    "osc.display_channel(2, True)"
   ]
  },
  {
   "cell_type": "code",
   "execution_count": null,
   "id": "853fd3d2-efc6-4729-b2c4-e532d8c1982b",
   "metadata": {},
   "outputs": [],
   "source": [
    "osc.set_trigger_source(2)"
   ]
  },
  {
   "cell_type": "code",
   "execution_count": null,
   "id": "95e9b8cb-4c6a-4c83-8565-46c2415a9279",
   "metadata": {},
   "outputs": [],
   "source": [
    "osc.set_timebase_scale(1e-5)"
   ]
  },
  {
   "cell_type": "code",
   "execution_count": null,
   "id": "8df8dca2-f02d-4efe-92d9-4581a757b8f3",
   "metadata": {},
   "outputs": [],
   "source": [
    "osc.set_channel_axis(2, 10, 0)"
   ]
  },
  {
   "cell_type": "code",
   "execution_count": null,
   "id": "131ca39a",
   "metadata": {},
   "outputs": [],
   "source": [
    "osc.close()\n",
    "awg.close()\n"
   ]
  }
 ],
 "metadata": {
  "kernelspec": {
   "display_name": "Python 3 (ipykernel)",
   "language": "python",
   "name": "python3"
  },
  "language_info": {
   "codemirror_mode": {
    "name": "ipython",
    "version": 3
   },
   "file_extension": ".py",
   "mimetype": "text/x-python",
   "name": "python",
   "nbconvert_exporter": "python",
   "pygments_lexer": "ipython3",
   "version": "3.11.6"
  }
 },
 "nbformat": 4,
 "nbformat_minor": 5
}
