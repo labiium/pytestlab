{
 "cells": [
  {
   "cell_type": "markdown",
   "metadata": {},
   "source": [
    "# 10 Minute Tour of PyTestLab"
   ]
  },
  {
   "cell_type": "markdown",
   "metadata": {},
   "source": [
    "Welcome to PyTestLab! This short tour will guide you through the basic setup and usage of PyTestLab to interact with your lab instruments."
   ]
  },
  {
   "cell_type": "markdown",
   "metadata": {},
   "source": [
    "## 1. Installation"
   ]
  },
  {
   "cell_type": "markdown",
   "metadata": {},
   "source": [
    "PyTestLab can be installed using pip. If you haven't already, open your terminal and run:"
   ]
  },
  {
   "cell_type": "code",
   "execution_count": null,
   "metadata": {},
   "outputs": [],
   "source": [
    "!pip install pytestlab"
   ]
  },
  {
   "cell_type": "markdown",
   "metadata": {},
   "source": [
    "Make sure you have the necessary VISA libraries installed for your operating system if you plan to connect to real instruments (e.g., NI-VISA, Keysight Connection Expert)."
   ]
  },
  {
   "cell_type": "markdown",
   "metadata": {},
   "source": [
    "## 2. Importing PyTestLab and Connecting to an Instrument"
   ]
  },
  {
   "cell_type": "markdown",
   "metadata": {},
   "source": [
    "PyTestLab uses an `AutoInstrument` class to easily load instrument configurations and connect. Configurations can be loaded from a CDN, local files, or a dictionary."
   ]
  },
  {
   "cell_type": "code",
   "execution_count": null,
   "metadata": {},
   "outputs": [],
   "source": [
    "import asyncio\n",
    "from pytestlab.instruments import AutoInstrument\n",
    "from pytestlab.common.enums import DMMFunction # For DMM example\n",
    "from pytestlab.experiments.database import MeasurementDatabase # For DB example\n",
    "from pytestlab.experiments.results import MeasurementResult # For DB example"
   ]
  },
  {
   "cell_type": "markdown",
   "metadata": {},
   "source": [
    "### Connecting to a Simulated Instrument"
   ]
  },
  {
   "cell_type": "markdown",
   "metadata": {},
   "source": [
    "For this tour, we'll start with a simulated instrument, which doesn't require any physical hardware."
   ]
  },
  {
   "cell_type": "code",
   "execution_count": null,
   "metadata": {},
   "outputs": [],
   "source": [
    "async def connect_simulated_scope():\n",
    "    # Load a configuration for a Keysight DSOX1204G oscilloscope\n",
    "    # 'simulate=True' tells AutoInstrument to use the simulation backend.\n",
    "    scope_sim = AutoInstrument.from_config(\"keysight/DSOX1204G\", simulate=True)\n",
    "    \n",
    "    # Connect to the backend (important step for async instruments)\n",
    "    await scope_sim.connect_backend()\n",
    "    \n",
    "    print(f\"Successfully connected to simulated: {await scope_sim.id()}\")\n",
    "    return scope_sim\n",
    "\n",
    "async def main_sim():\n",
    "    scope = await connect_simulated_scope()\n",
    "    # You can now interact with 'scope'\n",
    "    await scope.close() # Close the connection when done\n",
    "\n",
    "# To run in a Jupyter Notebook, you can use asyncio.run() or get_event_loop().run_until_complete()\n",
    "# For simplicity in this example, we'll show how you might call it.\n",
    "# If you are in a Jupyter environment with an existing event loop, you might need:\n",
    "# await main_sim() \n",
    "# Or, if no loop is running:\n",
    "if __name__ == \"__main__\":\n",
    "    asyncio.run(main_sim())"
   ]
  },
  {
   "cell_type": "markdown",
   "metadata": {},
   "source": [
    "### Connecting to a Real Instrument (Example)"
   ]
  },
  {
   "cell_type": "markdown",
   "metadata": {},
   "source": [
    "To connect to a real instrument, you would set `simulate=False` and provide the VISA address. The `config_source` can be a path to a local YAML file or a CDN identifier."
   ]
  },
  {
   "cell_type": "code",
   "execution_count": null,
   "metadata": {},
   "outputs": [],
   "source": [
    "# This is an example and will likely fail if you don't have this instrument at this address.\n",
    "async def connect_real_psu():\n",
    "    try:\n",
    "        # Example: Connecting to a Keysight E36313A Power Supply\n",
    "        # Replace with your instrument's actual VISA address and config identifier.\n",
    "        psu_real = AutoInstrument.from_config(\n",
    "            config_source=\"keysight/E36313A\", # CDN or local file path\n",
    "            resource_name=\"TCPIP0::YOUR_PSU_IP_ADDRESS::INSTR\", # Example VISA address\n",
    "            simulate=False\n",
    "        )\n",
    "        await psu_real.connect_backend()\n",
    "        print(f\"Successfully connected to: {await psu_real.id()}\")\n",
    "        return psu_real\n",
    "    except Exception as e:\n",
    "        print(f\"Failed to connect to real PSU: {e}\")\n",
    "        return None\n",
    "\n",
    "async def main_real_example():\n",
    "    psu = await connect_real_psu()\n",
    "    if psu:\n",
    "        # Interact with the PSU\n",
    "        await psu.close()\n",
    "\n",
    "# if __name__ == \"__main__\":\n",
    "#     asyncio.run(main_real_example())"
   ]
  },
  {
   "cell_type": "markdown",
   "metadata": {},
   "source": [
    "## 3. Basic Operations using New Facades"
   ]
  },
  {
   "cell_type": "markdown",
   "metadata": {},
   "source": [
    "PyTestLab now provides intuitive facade objects for common instrument operations, allowing for a chained, more readable syntax. These facade methods are `async`."
   ]
  },
  {
   "cell_type": "markdown",
   "metadata": {},
   "source": [
    "### Power Supply (PSU) Facade Example"
   ]
  },
  {
   "cell_type": "code",
   "execution_count": null,
   "metadata": {},
   "outputs": [],
   "source": [
    "async def psu_facade_example():\n",
    "    # Using a simulated PSU for this example\n",
    "    psu = AutoInstrument.from_config(\"keysight/E36311A\", simulate=True) # Example PSU config\n",
    "    await psu.connect_backend()\n",
    "    print(f\"PSU ID: {await psu.id()}\")\n",
    "\n",
    "    try:\n",
    "        # Using the PSUChannelFacade\n",
    "        # Configure channel 1: set voltage to 3.3V, current limit to 0.5A, then turn it on.\n",
    "        await psu.channel(1).set(voltage=3.3, current_limit=0.5).on()\n",
    "        print(f\"PSU Channel 1: Voltage set to 3.3V, Current Limit to 0.5A, Output ON\")\n",
    "\n",
    "        # Read back the voltage (assuming the facade has get_voltage)\n",
    "        # Note: The example PSUChannelFacade.set returns self, for get_voltage you'd call it separately.\n",
    "        ch1_voltage = await psu.channel(1).get_voltage()\n",
    "        ch1_current = await psu.channel(1).get_current()\n",
    "        ch1_state = await psu.channel(1).get_output_state()\n",
    "        print(f\"PSU Channel 1 Readback: Voltage={ch1_voltage}V, Current={ch1_current}A, State={'ON' if ch1_state else 'OFF'}\")\n",
    "\n",
    "        # Turn channel 1 off\n",
    "        await psu.channel(1).off()\n",
    "        print(f\"PSU Channel 1: Output OFF\")\n",
    "        ch1_state_after_off = await psu.channel(1).get_output_state()\n",
    "        print(f\"PSU Channel 1 Readback after off: State={'ON' if ch1_state_after_off else 'OFF'}\")\n",
    "\n",
    "    except Exception as e:\n",
    "        print(f\"An error occurred with PSU facade: {e}\")\n",
    "    finally:\n",
    "        await psu.close()\n",
    "\n",
    "# To run in Jupyter:\n",
    "# await psu_facade_example()\n",
    "# Or if no loop is running:\n",
    "if __name__ == \"__main__\":\n",
    "    asyncio.run(psu_facade_example())"
   ]
  },
  {
   "cell_type": "markdown",
   "metadata": {},
   "source": [
    "### Oscilloscope Facade Example"
   ]
  },
  {
   "cell_type": "code",
   "execution_count": null,
   "metadata": {},
   "outputs": [],
   "source": [
    "from pytestlab.common.enums import TriggerSlope # Ensure TriggerSlope is imported\n",
    "\n",
    "async def oscilloscope_facade_example():\n",
    "    scope = AutoInstrument.from_config(\"keysight/DSOX1204G\", simulate=True)\n",
    "    await scope.connect_backend()\n",
    "    print(f\"Scope ID: {await scope.id()}\")\n",
    "\n",
    "    try:\n",
    "        # Channel Facade: Configure channel 1\n",
    "        await scope.channel(1).setup(scale=0.5, position=0.0, coupling='DC').enable()\n",
    "        print(\"Scope Channel 1: Scale 0.5V/div, Position 0.0s, Coupling DC, Enabled\")\n",
    "\n",
    "        # Trigger Facade: Setup edge trigger on channel 1\n",
    "        await scope.trigger.setup_edge(source='CH1', level=1.0, slope=TriggerSlope.POSITIVE)\n",
    "        print(\"Scope Trigger: Edge trigger on CH1, Level 1.0V, Slope POSITIVE\")\n",
    "\n",
    "        # Acquisition Facade: Start acquisition, wait for trigger, get waveform\n",
    "        print(\"Scope Acquisition: Starting...\")\n",
    "        waveform_data = await scope.acquisition.start().wait_for_trigger(timeout=5).get_waveform(1)\n",
    "        # Note: wait_for_trigger in the example implementation might be basic.\n",
    "        # A real scenario might involve more complex trigger status polling.\n",
    "        \n",
    "        print(f\"Scope Acquisition: Waveform data for channel 1 acquired (first 5 points):\\n{waveform_data.values.head(5)}\")\n",
    "        \n",
    "    except Exception as e:\n",
    "        print(f\"An error occurred with Oscilloscope facade: {e}\")\n",
    "    finally:\n",
    "        await scope.close()\n",
    "\n",
    "# To run in Jupyter:\n",
    "# await oscilloscope_facade_example()\n",
    "# Or if no loop is running:\n",
    "if __name__ == \"__main__\":\n",
    "    asyncio.run(oscilloscope_facade_example())"
   ]
  },
  {
   "cell_type": "markdown",
   "metadata": {},
   "source": [
    "### Waveform Generator (WG) Facade Example"
   ]
  },
  {
   "cell_type": "code",
   "execution_count": null,
   "metadata": {},
   "outputs": [],
   "source": [
    "async def wg_facade_example():\n",
    "    wg = AutoInstrument.from_config(\"keysight/EDU33212A\", simulate=True) # Example WG config\n",
    "    await wg.connect_backend()\n",
    "    print(f\"Waveform Generator ID: {await wg.id()}\")\n",
    "\n",
    "    try:\n",
    "        # Configure channel 1 to output a sine wave\n",
    "        await wg.channel(1).setup_sine(frequency=1e3, amplitude=1.0, offset=0.0).enable()\n",
    "        print(\"WG Channel 1: Sine wave, 1kHz, 1.0Vpp, 0V offset, Output ON\")\n",
    "\n",
    "        # Example: Get some configuration (actual methods depend on WGChannelFacade implementation)\n",
    "        # current_func = await wg.channel(1).get_function_type() # Assuming such a method exists\n",
    "        # current_freq = await wg.channel(1).get_frequency()     # Assuming such a method exists\n",
    "        # print(f\"WG Channel 1 Readback: Function={current_func}, Frequency={current_freq}Hz\")\n",
    "        \n",
    "        # Disable output\n",
    "        await wg.channel(1).disable()\n",
    "        print(\"WG Channel 1: Output OFF\")\n",
    "\n",
    "    except Exception as e:\n",
    "        print(f\"An error occurred with Waveform Generator facade: {e}\")\n",
    "    finally:\n",
    "        await wg.close()\n",
    "\n",
    "# To run in Jupyter:\n",
    "# await wg_facade_example()\n",
    "# Or if no loop is running:\n",
    "if __name__ == \"__main__\":\n",
    "    asyncio.run(wg_facade_example())"
   ]
  },
  {
   "cell_type": "markdown",
   "metadata": {},
   "source": [
    "## 4. Performing a Simple Measurement (DMM)"
   ]
  },
  {
   "cell_type": "code",
   "execution_count": null,
   "metadata": {},
   "outputs": [],
   "source": [
    "async def dmm_measurement_example():\n",
    "    dmm = AutoInstrument.from_config(\"keysight/EDU34450A\", simulate=True) # Example DMM config\n",
    "    await dmm.connect_backend()\n",
    "    print(f\"DMM ID: {await dmm.id()}\")\n",
    "\n",
    "    measurement_result = None\n",
    "    try:\n",
    "        # Measure DC Voltage\n",
    "        # The DMM 'measure' method is async and takes a DMMFunction enum member.\n",
    "        measurement_result = await dmm.measure(DMMFunction.DC_VOLTAGE, range_val=\"AUTO\", resolution=\"DEF\")\n",
    "        print(f\"DMM Measurement: {measurement_result.measurement_type} = {measurement_result.values} {measurement_result.units}\")\n",
    "        \n",
    "    except Exception as e:\n",
    "        print(f\"An error occurred during DMM measurement: {e}\")\n",
    "    finally:\n",
    "        await dmm.close()\n",
    "    return measurement_result # Return for database example\n",
    "\n",
    "# To run in Jupyter:\n",
    "# dmm_result = await dmm_measurement_example()\n",
    "# Or if no loop is running:\n",
    "if __name__ == \"__main__\":\n",
    "    dmm_result_for_db = asyncio.run(dmm_measurement_example())"
   ]
  },
  {
   "cell_type": "markdown",
   "metadata": {},
   "source": [
    "## 5. Storing and Retrieving Results with MeasurementDatabase"
   ]
  },
  {
   "cell_type": "code",
   "execution_count": null,
   "metadata": {},
   "outputs": [],
   "source": [
    "def database_example(measurement_to_store):\n",
    "    if not measurement_to_store:\n",
    "        print(\"No measurement to store. Skipping database example.\")\n",
    "        # Create a dummy measurement if needed for the example to run\n",
    "        measurement_to_store = MeasurementResult(\n",
    "            values=1.234, \n",
    "            instrument=\"SimulatedDMM\", \n",
    "            units=\"V\", \n",
    "            measurement_type=\"DC Voltage (Dummy)\"\n",
    "        )\n",
    "        print(f\"Using dummy measurement: {measurement_to_store}\")\n",
    "\n",
    "    # Initialize the database (creates 'my_lab_data.db' if it doesn't exist)\n",
    "    with MeasurementDatabase(\"my_lab_data\") as db:\n",
    "        print(f\"Database initialized at: {db.db_path}\")\n",
    "        \n",
    "        # Store the measurement result\n",
    "        # store_measurement is synchronous\n",
    "        try:\n",
    "            measurement_codename = db.store_measurement(\n",
    "                codename=None, # Let the DB generate a codename\n",
    "                measurement=measurement_to_store,\n",
    "                notes=\"This is a test measurement from the 10-minute tour.\"\n",
    "            )\n",
    "            print(f\"Measurement stored with codename: {measurement_codename}\")\n",
    "\n",
    "            # Retrieve the stored measurement\n",
    "            retrieved_measurement = db.retrieve_measurement(measurement_codename)\n",
    "            print(f\"Retrieved Measurement ({retrieved_measurement.instrument}): {retrieved_measurement.values} {retrieved_measurement.units}\")\n",
    "            print(f\"Timestamp: {datetime.fromtimestamp(retrieved_measurement.timestamp)}\")\n",
    "\n",
    "            # List recent measurements\n",
    "            recent_measurements = db.list_measurements(limit=5)\n",
    "            print(f\"\\nRecent measurement codenames: {recent_measurements}\")\n",
    "\n",
    "            # Search for measurements\n",
    "            search_results = db.search_measurements(query=\"tour\")\n",
    "            print(f\"\\nSearch results for 'tour':\")\n",
    "            for res in search_results:\n",
    "                print(f\"  - {res['codename']}: {res['measurement_type']} from {res['instrument']}\")\n",
    "        except Exception as e:\n",
    "            print(f\"Database operation failed: {e}\")\n",
    "\n",
    "# if __name__ == \"__main__\":\n",
    "    # This assumes dmm_result_for_db was populated by the previous cell's asyncio.run\n",
    "    # In a real script, you'd manage the async execution and pass results properly.\n",
    "    # For this notebook, we'll call it directly if the variable exists.\n",
    "    # if 'dmm_result_for_db' in locals() and dmm_result_for_db:\n",
    "    #     database_example(dmm_result_for_db)\n",
    "    # else:\n",
    "    #     print(\"DMM result not available for database example. Running with dummy data.\")\n",
    "    #     database_example(None) # Run with dummy data if DMM example didn't produce a result\n",
    "\n",
    "# Simplified execution for notebook demonstration assuming previous cell ran\n",
    "if __name__ == '__main__':\n",
    "    # First, run the DMM example to get a result\n",
    "    print(\"--- Running DMM Example First ---\")\n",
    "    dmm_res = asyncio.run(dmm_measurement_example())\n",
    "    print(\"--- DMM Example Finished ---\\n\")\n",
    "    \n",
    "    print(\"--- Running Database Example ---\")\n",
    "    database_example(dmm_res)\n",
    "    print(\"--- Database Example Finished ---\")"
   ]
  },
  {
   "cell_type": "markdown",
   "metadata": {},
   "source": [
    "## 6. Next Steps"
   ]
  },
  {
   "cell_type": "markdown",
   "metadata": {},
   "source": [
    "This tour covered the basics of installing PyTestLab, connecting to instruments (simulated and real), using the new asynchronous facades for common operations, and storing/retrieving data.\n",
    "\n",
    "From here, you can explore:\n",
    "- Detailed documentation for specific instruments.\n",
    "- Advanced features like experiment management and complex sweeps.\n",
    "- Creating your own instrument configuration files.\n",
    "- Integrating PyTestLab into your automated test scripts."
   ]
  }
 ],
 "metadata": {
  "kernelspec": {
   "display_name": "Python 3",
   "language": "python",
   "name": "python3"
  },
  "language_info": {
   "codemirror_mode": {
    "name": "ipython",
    "version": 3
   },
   "file_extension": ".py",
   "mimetype": "text/x-python",
   "name": "python",
   "nbconvert_exporter": "python",
   "pygments_lexer": "ipython3",
   "version": "3.9.12"
  }
 },
 "nbformat": 4,
 "nbformat_minor": 2
}